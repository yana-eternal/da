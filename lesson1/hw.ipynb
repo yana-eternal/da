{
 "cells": [
  {
   "cell_type": "code",
   "execution_count": 1,
   "id": "fd5bce7e",
   "metadata": {},
   "outputs": [],
   "source": [
    "age = 21"
   ]
  },
  {
   "cell_type": "code",
   "execution_count": 2,
   "id": "736d6bf9",
   "metadata": {},
   "outputs": [],
   "source": [
    "name = 'Yana'"
   ]
  },
  {
   "cell_type": "code",
   "execution_count": 6,
   "id": "a7a8a384",
   "metadata": {},
   "outputs": [],
   "source": [
    "user_info = ['Yana', 'Chetverikova', 10.500, 1]"
   ]
  },
  {
   "cell_type": "code",
   "execution_count": 7,
   "id": "f2987a62",
   "metadata": {},
   "outputs": [],
   "source": [
    "slrs = [1, 2, 3,4,5]"
   ]
  },
  {
   "cell_type": "code",
   "execution_count": 8,
   "id": "3bbc7d8f",
   "metadata": {},
   "outputs": [
    {
     "data": {
      "text/plain": [
       "1"
      ]
     },
     "execution_count": 8,
     "metadata": {},
     "output_type": "execute_result"
    }
   ],
   "source": [
    "slrs [0]"
   ]
  },
  {
   "cell_type": "code",
   "execution_count": 10,
   "id": "2576aed8",
   "metadata": {},
   "outputs": [],
   "source": [
    "users = ['bla',33,'kul']"
   ]
  },
  {
   "cell_type": "code",
   "execution_count": 14,
   "id": "c472f100",
   "metadata": {},
   "outputs": [],
   "source": [
    "users.append ('voronov')"
   ]
  },
  {
   "cell_type": "code",
   "execution_count": 16,
   "id": "94ee7450",
   "metadata": {},
   "outputs": [],
   "source": [
    "users.append (42)"
   ]
  },
  {
   "cell_type": "code",
   "execution_count": 18,
   "id": "2d2cbdab",
   "metadata": {},
   "outputs": [
    {
     "data": {
      "text/plain": [
       "['bla', 33, 'kul', 'voronov', 42, 42]"
      ]
     },
     "execution_count": 18,
     "metadata": {},
     "output_type": "execute_result"
    }
   ],
   "source": [
    "users"
   ]
  },
  {
   "cell_type": "code",
   "execution_count": 19,
   "id": "68e4eb09",
   "metadata": {},
   "outputs": [],
   "source": [
    "user_ages = [10, 18, 21, 35, 42, 27, 12, 16]"
   ]
  },
  {
   "cell_type": "code",
   "execution_count": 26,
   "id": "9067e63f",
   "metadata": {},
   "outputs": [
    {
     "name": "stdout",
     "output_type": "stream",
     "text": [
      "21\n",
      "35\n",
      "42\n",
      "27\n"
     ]
    }
   ],
   "source": [
    "for i in user_ages:\n",
    "    if i > 18:\n",
    "        print (i)"
   ]
  },
  {
   "cell_type": "code",
   "execution_count": 39,
   "id": "2d5ae187",
   "metadata": {},
   "outputs": [],
   "source": [
    "worker = ['Yana', 'Chetverikova', 50000, 1]"
   ]
  },
  {
   "cell_type": "code",
   "execution_count": 30,
   "id": "4f958bb6",
   "metadata": {},
   "outputs": [],
   "source": [
    "\n",
    "status =' {} {} is {}'"
   ]
  },
  {
   "cell_type": "code",
   "execution_count": 47,
   "id": "593d6a4b",
   "metadata": {},
   "outputs": [],
   "source": [
    "status=status.format (worker[0], worker [1],position)"
   ]
  },
  {
   "cell_type": "code",
   "execution_count": 44,
   "id": "d11e59e7",
   "metadata": {},
   "outputs": [
    {
     "name": "stdout",
     "output_type": "stream",
     "text": [
      "sen\n"
     ]
    }
   ],
   "source": [
    "if worker [-1] < 2:\n",
    "    position= 'jun'\n",
    "elif 2<= worker [-1] <= 5:\n",
    "    position= 'med'\n",
    "else:\n",
    "    position ='sen'\n",
    "print (position)"
   ]
  },
  {
   "cell_type": "code",
   "execution_count": 48,
   "id": "1dca27ae",
   "metadata": {},
   "outputs": [
    {
     "data": {
      "text/plain": [
       "' Yana Chetverikova is sen'"
      ]
     },
     "execution_count": 48,
     "metadata": {},
     "output_type": "execute_result"
    }
   ],
   "source": [
    "status"
   ]
  },
  {
   "cell_type": "code",
   "execution_count": 123,
   "id": "dd77659b",
   "metadata": {},
   "outputs": [],
   "source": [
    "worker = ['Yana', 'Chetverikova', 50000, 4]"
   ]
  },
  {
   "cell_type": "code",
   "execution_count": 163,
   "id": "68dbccea",
   "metadata": {},
   "outputs": [],
   "source": [
    "workers = [['Yana', 'Chetverikova', 50000, 4],['Ban', 'Chetverikov', 50000,7 ]]"
   ]
  },
  {
   "cell_type": "code",
   "execution_count": null,
   "id": "3348c9c3",
   "metadata": {},
   "outputs": [],
   "source": [
    "worker = workers [1]"
   ]
  },
  {
   "cell_type": "code",
   "execution_count": 172,
   "id": "0e09b65b",
   "metadata": {},
   "outputs": [
    {
     "ename": "TypeError",
     "evalue": "'<' not supported between instances of 'list' and 'int'",
     "output_type": "error",
     "traceback": [
      "\u001b[1;31m---------------------------------------------------------------------------\u001b[0m",
      "\u001b[1;31mTypeError\u001b[0m                                 Traceback (most recent call last)",
      "\u001b[1;32m<ipython-input-172-ab847d6de605>\u001b[0m in \u001b[0;36m<module>\u001b[1;34m\u001b[0m\n\u001b[0;32m      2\u001b[0m     \u001b[0mexp\u001b[0m \u001b[1;33m=\u001b[0m \u001b[0mworker\u001b[0m\u001b[1;33m\u001b[0m\u001b[1;33m\u001b[0m\u001b[0m\n\u001b[0;32m      3\u001b[0m \u001b[1;33m\u001b[0m\u001b[0m\n\u001b[1;32m----> 4\u001b[1;33m     \u001b[1;32mif\u001b[0m \u001b[0mexp\u001b[0m \u001b[1;33m<\u001b[0m \u001b[1;36m2\u001b[0m\u001b[1;33m:\u001b[0m\u001b[1;33m\u001b[0m\u001b[1;33m\u001b[0m\u001b[0m\n\u001b[0m\u001b[0;32m      5\u001b[0m         \u001b[0mposition\u001b[0m\u001b[1;33m=\u001b[0m \u001b[1;34m'jun'\u001b[0m\u001b[1;33m\u001b[0m\u001b[1;33m\u001b[0m\u001b[0m\n\u001b[0;32m      6\u001b[0m     \u001b[1;32melif\u001b[0m \u001b[1;36m2\u001b[0m\u001b[1;33m<=\u001b[0m \u001b[0mexp\u001b[0m \u001b[1;33m<=\u001b[0m \u001b[1;36m5\u001b[0m\u001b[1;33m:\u001b[0m\u001b[1;33m\u001b[0m\u001b[1;33m\u001b[0m\u001b[0m\n",
      "\u001b[1;31mTypeError\u001b[0m: '<' not supported between instances of 'list' and 'int'"
     ]
    }
   ],
   "source": [
    "for worker in workers:\n",
    "    exp = worker\n",
    "\n",
    "    if exp < 2:\n",
    "        position= 'jun'\n",
    "    elif 2<= exp <= 5:\n",
    "        position= 'med'\n",
    "    else:\n",
    "        position ='sen'\n",
    "    status= status.format (worker[1], worker [0],position)\n",
    "    print (status)"
   ]
  },
  {
   "cell_type": "code",
   "execution_count": 170,
   "id": "0f6d3141",
   "metadata": {},
   "outputs": [
    {
     "data": {
      "text/plain": [
       "' Yana Chetverikova is med'"
      ]
     },
     "execution_count": 170,
     "metadata": {},
     "output_type": "execute_result"
    }
   ],
   "source": [
    "status"
   ]
  },
  {
   "cell_type": "code",
   "execution_count": 171,
   "id": "f12dd5d0",
   "metadata": {},
   "outputs": [],
   "source": [
    "values = [12, 134, 10, 47, 100, 20, 50, 160, 210, 24,53]"
   ]
  },
  {
   "cell_type": "code",
   "execution_count": 159,
   "id": "eaf0855a",
   "metadata": {},
   "outputs": [],
   "source": [
    "worker = workers"
   ]
  },
  {
   "cell_type": "code",
   "execution_count": 80,
   "id": "30290fc4",
   "metadata": {},
   "outputs": [],
   "source": [
    "tens = []"
   ]
  },
  {
   "cell_type": "code",
   "execution_count": 82,
   "id": "568573f1",
   "metadata": {},
   "outputs": [
    {
     "data": {
      "text/plain": [
       "[10, 100, 20, 50, 160, 210]"
      ]
     },
     "execution_count": 82,
     "metadata": {},
     "output_type": "execute_result"
    }
   ],
   "source": [
    "tens"
   ]
  },
  {
   "cell_type": "code",
   "execution_count": 81,
   "id": "bc8b3160",
   "metadata": {},
   "outputs": [],
   "source": [
    "for v in values:\n",
    "    if (v%10)== 0:\n",
    "        tens.append (v)"
   ]
  },
  {
   "cell_type": "code",
   "execution_count": 71,
   "id": "15f3ee0f",
   "metadata": {},
   "outputs": [
    {
     "data": {
      "text/plain": [
       "[12,\n",
       " 134,\n",
       " 10,\n",
       " 47,\n",
       " 100,\n",
       " 20,\n",
       " 50,\n",
       " 160,\n",
       " 210,\n",
       " 24,\n",
       " 53,\n",
       " 12,\n",
       " 134,\n",
       " 10,\n",
       " 47,\n",
       " 100,\n",
       " 20,\n",
       " 50,\n",
       " 160,\n",
       " 210,\n",
       " 24,\n",
       " 53]"
      ]
     },
     "execution_count": 71,
     "metadata": {},
     "output_type": "execute_result"
    }
   ],
   "source": [
    "tens"
   ]
  },
  {
   "cell_type": "code",
   "execution_count": 63,
   "id": "dbf86eff",
   "metadata": {},
   "outputs": [
    {
     "data": {
      "text/plain": [
       "True"
      ]
     },
     "execution_count": 63,
     "metadata": {},
     "output_type": "execute_result"
    }
   ],
   "source": [
    "tens == values"
   ]
  },
  {
   "cell_type": "code",
   "execution_count": 69,
   "id": "f8a84261",
   "metadata": {},
   "outputs": [
    {
     "data": {
      "text/plain": [
       "True"
      ]
     },
     "execution_count": 69,
     "metadata": {},
     "output_type": "execute_result"
    }
   ],
   "source": [
    "(100%10)== 0"
   ]
  },
  {
   "cell_type": "code",
   "execution_count": null,
   "id": "831a85b3",
   "metadata": {},
   "outputs": [],
   "source": [
    "analysts_data = {'Yana':[2,100000], 'Dasha':[3,200000], 'Vlad':[4,300000]}\n",
    "worker = ['Yana', 'Chetverikova', 50000, 4]\n",
    "worker - {'Yana','Chetverikova':[20000,2], 'Dasha', 'Babinez':[40000,3]}"
   ]
  },
  {
   "cell_type": "code",
   "execution_count": 173,
   "id": "fc35f28a",
   "metadata": {},
   "outputs": [],
   "source": [
    "worker = {'YanaChetverikova':[20000,1], 'DashaBabinez':[40000,3], 'vlad''pankrat':[100000,6]}"
   ]
  },
  {
   "cell_type": "code",
   "execution_count": 177,
   "id": "dea7f089",
   "metadata": {},
   "outputs": [
    {
     "name": "stdout",
     "output_type": "stream",
     "text": [
      "YanaChetverikova jun\n",
      "DashaBabinez med\n",
      "vladpankrat sen\n"
     ]
    }
   ],
   "source": [
    "for stage in worker:\n",
    "    if worker[stage] [1] < 2:\n",
    "        position= 'jun'\n",
    "    elif 2<= worker[stage] [1] <= 5:\n",
    "        position= 'med'\n",
    "    else:\n",
    "        position ='sen'\n",
    "    \n",
    "    print (stage,position)\n"
   ]
  },
  {
   "cell_type": "code",
   "execution_count": 101,
   "id": "5402f2a1",
   "metadata": {},
   "outputs": [
    {
     "ename": "KeyError",
     "evalue": "16",
     "output_type": "error",
     "traceback": [
      "\u001b[1;31m---------------------------------------------------------------------------\u001b[0m",
      "\u001b[1;31mKeyError\u001b[0m                                  Traceback (most recent call last)",
      "\u001b[1;32m<ipython-input-101-71f0743962fc>\u001b[0m in \u001b[0;36m<module>\u001b[1;34m\u001b[0m\n\u001b[1;32m----> 1\u001b[1;33m \u001b[0mworker\u001b[0m \u001b[1;33m[\u001b[0m\u001b[0mi\u001b[0m\u001b[1;33m]\u001b[0m\u001b[1;33m\u001b[0m\u001b[1;33m\u001b[0m\u001b[0m\n\u001b[0m",
      "\u001b[1;31mKeyError\u001b[0m: 16"
     ]
    }
   ],
   "source": []
  },
  {
   "cell_type": "code",
   "execution_count": 178,
   "id": "04b97a91",
   "metadata": {},
   "outputs": [
    {
     "name": "stdout",
     "output_type": "stream",
     "text": [
      "The Zen of Python, by Tim Peters\n",
      "\n",
      "Beautiful is better than ugly.\n",
      "Explicit is better than implicit.\n",
      "Simple is better than complex.\n",
      "Complex is better than complicated.\n",
      "Flat is better than nested.\n",
      "Sparse is better than dense.\n",
      "Readability counts.\n",
      "Special cases aren't special enough to break the rules.\n",
      "Although practicality beats purity.\n",
      "Errors should never pass silently.\n",
      "Unless explicitly silenced.\n",
      "In the face of ambiguity, refuse the temptation to guess.\n",
      "There should be one-- and preferably only one --obvious way to do it.\n",
      "Although that way may not be obvious at first unless you're Dutch.\n",
      "Now is better than never.\n",
      "Although never is often better than *right* now.\n",
      "If the implementation is hard to explain, it's a bad idea.\n",
      "If the implementation is easy to explain, it may be a good idea.\n",
      "Namespaces are one honking great idea -- let's do more of those!\n"
     ]
    }
   ],
   "source": [
    "import this"
   ]
  },
  {
   "cell_type": "code",
   "execution_count": null,
   "id": "149d9f16",
   "metadata": {},
   "outputs": [],
   "source": []
  }
 ],
 "metadata": {
  "kernelspec": {
   "display_name": "Python 3 (ipykernel)",
   "language": "python",
   "name": "python3"
  },
  "language_info": {
   "codemirror_mode": {
    "name": "ipython",
    "version": 3
   },
   "file_extension": ".py",
   "mimetype": "text/x-python",
   "name": "python",
   "nbconvert_exporter": "python",
   "pygments_lexer": "ipython3",
   "version": "3.9.7"
  }
 },
 "nbformat": 4,
 "nbformat_minor": 5
}
