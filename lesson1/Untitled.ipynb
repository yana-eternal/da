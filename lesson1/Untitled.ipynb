{
 "cells": [
  {
   "cell_type": "code",
   "execution_count": 1,
   "id": "6e2c6996",
   "metadata": {},
   "outputs": [],
   "source": [
    "analyst = 'Yana'"
   ]
  },
  {
   "cell_type": "code",
   "execution_count": 2,
   "id": "369723ad",
   "metadata": {},
   "outputs": [],
   "source": [
    "years = 2"
   ]
  },
  {
   "cell_type": "code",
   "execution_count": 3,
   "id": "c4e78aed",
   "metadata": {},
   "outputs": [],
   "source": [
    "has_job = False"
   ]
  },
  {
   "cell_type": "code",
   "execution_count": null,
   "id": "2a5d6ab6",
   "metadata": {},
   "outputs": [],
   "source": []
  },
  {
   "cell_type": "code",
   "execution_count": 4,
   "id": "83c82914",
   "metadata": {},
   "outputs": [],
   "source": [
    "analyst_2 = 'dasha'"
   ]
  },
  {
   "cell_type": "code",
   "execution_count": 5,
   "id": "9e6d9a7b",
   "metadata": {},
   "outputs": [],
   "source": [
    "years_2 = 3"
   ]
  },
  {
   "cell_type": "code",
   "execution_count": 6,
   "id": "aa76809d",
   "metadata": {},
   "outputs": [],
   "source": [
    "has_job_2 = True"
   ]
  },
  {
   "cell_type": "code",
   "execution_count": 7,
   "id": "6991deff",
   "metadata": {},
   "outputs": [],
   "source": [
    "analysts = ['nastya', 'Yana', 'Armen']"
   ]
  },
  {
   "cell_type": "code",
   "execution_count": 8,
   "id": "2dc98679",
   "metadata": {},
   "outputs": [],
   "source": [
    "years = [2,3,4]"
   ]
  },
  {
   "cell_type": "code",
   "execution_count": 9,
   "id": "5fa4e7a6",
   "metadata": {},
   "outputs": [
    {
     "data": {
      "text/plain": [
       "['nastya', 'Yana', 'Armen']"
      ]
     },
     "execution_count": 9,
     "metadata": {},
     "output_type": "execute_result"
    }
   ],
   "source": [
    "analysts "
   ]
  },
  {
   "cell_type": "code",
   "execution_count": 10,
   "id": "ab450d87",
   "metadata": {},
   "outputs": [
    {
     "data": {
      "text/plain": [
       "[2, 3, 4]"
      ]
     },
     "execution_count": 10,
     "metadata": {},
     "output_type": "execute_result"
    }
   ],
   "source": [
    "years"
   ]
  },
  {
   "cell_type": "code",
   "execution_count": 11,
   "id": "d159674d",
   "metadata": {},
   "outputs": [
    {
     "data": {
      "text/plain": [
       "'Yana'"
      ]
     },
     "execution_count": 11,
     "metadata": {},
     "output_type": "execute_result"
    }
   ],
   "source": [
    "analysts [1]"
   ]
  },
  {
   "cell_type": "code",
   "execution_count": 12,
   "id": "7162ab29",
   "metadata": {},
   "outputs": [
    {
     "data": {
      "text/plain": [
       "'nastya'"
      ]
     },
     "execution_count": 12,
     "metadata": {},
     "output_type": "execute_result"
    }
   ],
   "source": [
    "analysts [0]"
   ]
  },
  {
   "cell_type": "code",
   "execution_count": 15,
   "id": "751eafd0",
   "metadata": {},
   "outputs": [
    {
     "name": "stdout",
     "output_type": "stream",
     "text": [
      "Hello, world!\n"
     ]
    }
   ],
   "source": [
    "print ('Hello, world!')"
   ]
  },
  {
   "cell_type": "code",
   "execution_count": 14,
   "id": "22b583f1",
   "metadata": {},
   "outputs": [
    {
     "data": {
      "text/plain": [
       "3"
      ]
     },
     "execution_count": 14,
     "metadata": {},
     "output_type": "execute_result"
    }
   ],
   "source": [
    "len (analysts)"
   ]
  },
  {
   "cell_type": "code",
   "execution_count": 21,
   "id": "efdf6fa5",
   "metadata": {},
   "outputs": [],
   "source": [
    "analysts.append ('Mike')"
   ]
  },
  {
   "cell_type": "code",
   "execution_count": 22,
   "id": "101b1d66",
   "metadata": {},
   "outputs": [
    {
     "data": {
      "text/plain": [
       "'Mike'"
      ]
     },
     "execution_count": 22,
     "metadata": {},
     "output_type": "execute_result"
    }
   ],
   "source": [
    "analysts.pop (3)"
   ]
  },
  {
   "cell_type": "code",
   "execution_count": 23,
   "id": "3119db28",
   "metadata": {},
   "outputs": [
    {
     "data": {
      "text/plain": [
       "['dasha', 'Yana', 'Armen']"
      ]
     },
     "execution_count": 23,
     "metadata": {},
     "output_type": "execute_result"
    }
   ],
   "source": [
    "analysts"
   ]
  },
  {
   "cell_type": "code",
   "execution_count": 1,
   "id": "2133df5d",
   "metadata": {},
   "outputs": [],
   "source": [
    "has_job = False"
   ]
  },
  {
   "cell_type": "code",
   "execution_count": 42,
   "id": "83827565",
   "metadata": {},
   "outputs": [
    {
     "name": "stdout",
     "output_type": "stream",
     "text": [
      "blin\n"
     ]
    }
   ],
   "source": [
    "if has_job:\n",
    "    hm = 'yra'\n",
    "else: \n",
    "    hm= 'blin'\n",
    "print (hm)"
   ]
  },
  {
   "cell_type": "code",
   "execution_count": 31,
   "id": "2d18c6da",
   "metadata": {},
   "outputs": [],
   "source": [
    "has_job=False"
   ]
  },
  {
   "cell_type": "code",
   "execution_count": 32,
   "id": "8fdf3e59",
   "metadata": {},
   "outputs": [
    {
     "data": {
      "text/plain": [
       "False"
      ]
     },
     "execution_count": 32,
     "metadata": {},
     "output_type": "execute_result"
    }
   ],
   "source": [
    "has_job == True"
   ]
  },
  {
   "cell_type": "code",
   "execution_count": 92,
   "id": "1ce60d14",
   "metadata": {},
   "outputs": [],
   "source": [
    "job_years = 2"
   ]
  },
  {
   "cell_type": "code",
   "execution_count": 93,
   "id": "ba10a376",
   "metadata": {},
   "outputs": [],
   "source": [
    "salary = 300000"
   ]
  },
  {
   "cell_type": "code",
   "execution_count": 94,
   "id": "457c9cea",
   "metadata": {},
   "outputs": [],
   "source": [
    "me = 'aie {kaef}. New salary is {new_sal} '"
   ]
  },
  {
   "cell_type": "code",
   "execution_count": null,
   "id": "131e4f38",
   "metadata": {},
   "outputs": [],
   "source": []
  },
  {
   "cell_type": "code",
   "execution_count": 95,
   "id": "2f92b77f",
   "metadata": {},
   "outputs": [
    {
     "name": "stdout",
     "output_type": "stream",
     "text": [
      "aie 0.2. New salary is 360000.0 \n",
      "360000.0\n"
     ]
    }
   ],
   "source": [
    "if job_years < 1:\n",
    "    kaef = 0\n",
    "elif job_years >=1 and job_years <= 2:\n",
    "    kaef = 0.2\n",
    "else:\n",
    "    kaef = 0.4\n",
    "ns = salary + salary * kaef\n",
    "print (me.format(kaef=kaef,new_sal = ns))    \n",
    "print (ns)"
   ]
  },
  {
   "cell_type": "code",
   "execution_count": 2,
   "id": "ea4feca3",
   "metadata": {},
   "outputs": [],
   "source": [
    "analysts = ['nastya', 'grib', 'Armen']"
   ]
  },
  {
   "cell_type": "code",
   "execution_count": 3,
   "id": "7f812b25",
   "metadata": {},
   "outputs": [
    {
     "name": "stdout",
     "output_type": "stream",
     "text": [
      "grib its art artist!\n"
     ]
    }
   ],
   "source": [
    "for i in analysts:\n",
    "    if i=='grib':\n",
    "        print ('{} its art artist!'.format(i))"
   ]
  },
  {
   "cell_type": "code",
   "execution_count": 2,
   "id": "7000e5c9",
   "metadata": {},
   "outputs": [],
   "source": [
    "analysts_data = {'Yana':[2,100000], 'Dasha':[3,200000], 'Vlad':[4,300000]}"
   ]
  },
  {
   "cell_type": "code",
   "execution_count": 3,
   "id": "a8052cd2",
   "metadata": {},
   "outputs": [
    {
     "data": {
      "text/plain": [
       "{'Yana': [2, 100000], 'Dasha': [3, 200000], 'Vlad': [4, 300000]}"
      ]
     },
     "execution_count": 3,
     "metadata": {},
     "output_type": "execute_result"
    }
   ],
   "source": [
    "analysts_data"
   ]
  },
  {
   "cell_type": "code",
   "execution_count": 6,
   "id": "c12935ae",
   "metadata": {},
   "outputs": [
    {
     "name": "stdout",
     "output_type": "stream",
     "text": [
      "Vlad mnogo zarabativaet\n"
     ]
    }
   ],
   "source": [
    "for i in analysts_data:\n",
    "    if analysts_data[i] [1]> 200000:\n",
    "        print ('{} mnogo zarabativaet'.format(i))"
   ]
  },
  {
   "cell_type": "code",
   "execution_count": 7,
   "id": "c7927832",
   "metadata": {},
   "outputs": [
    {
     "data": {
      "text/plain": [
       "300000"
      ]
     },
     "execution_count": 7,
     "metadata": {},
     "output_type": "execute_result"
    }
   ],
   "source": [
    "analysts_data[i] [1]"
   ]
  },
  {
   "cell_type": "code",
   "execution_count": 1,
   "id": "6ce929e4",
   "metadata": {},
   "outputs": [
    {
     "ename": "IndentationError",
     "evalue": "expected an indented block (<ipython-input-1-de937ba03c46>, line 2)",
     "output_type": "error",
     "traceback": [
      "\u001b[1;36m  File \u001b[1;32m\"<ipython-input-1-de937ba03c46>\"\u001b[1;36m, line \u001b[1;32m2\u001b[0m\n\u001b[1;33m    print ('Spasibo!')\u001b[0m\n\u001b[1;37m    ^\u001b[0m\n\u001b[1;31mIndentationError\u001b[0m\u001b[1;31m:\u001b[0m expected an indented block\n"
     ]
    }
   ],
   "source": [
    "if Dima_send_money==93:\n",
    "print ('Spasibo!')\n",
    "else:\n",
    "print ('ne spasibo') "
   ]
  },
  {
   "cell_type": "code",
   "execution_count": 2,
   "id": "f6bc0033",
   "metadata": {},
   "outputs": [],
   "source": [
    "dushnila = 'Dima'"
   ]
  },
  {
   "cell_type": "code",
   "execution_count": 3,
   "id": "5366d69b",
   "metadata": {},
   "outputs": [],
   "source": [
    "dengi_dushnili = 93"
   ]
  },
  {
   "cell_type": "code",
   "execution_count": 4,
   "id": "b1cbfd65",
   "metadata": {},
   "outputs": [
    {
     "name": "stdout",
     "output_type": "stream",
     "text": [
      "Spasibo EBAT\n"
     ]
    }
   ],
   "source": [
    "if dengi_dushnili == 93:\n",
    "    print ('Spasibo EBAT')"
   ]
  },
  {
   "cell_type": "code",
   "execution_count": null,
   "id": "072aa244",
   "metadata": {},
   "outputs": [],
   "source": []
  }
 ],
 "metadata": {
  "kernelspec": {
   "display_name": "Python 3 (ipykernel)",
   "language": "python",
   "name": "python3"
  },
  "language_info": {
   "codemirror_mode": {
    "name": "ipython",
    "version": 3
   },
   "file_extension": ".py",
   "mimetype": "text/x-python",
   "name": "python",
   "nbconvert_exporter": "python",
   "pygments_lexer": "ipython3",
   "version": "3.9.7"
  }
 },
 "nbformat": 4,
 "nbformat_minor": 5
}
