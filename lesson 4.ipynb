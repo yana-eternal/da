{
 "cells": [
  {
   "cell_type": "code",
   "execution_count": 2,
   "id": "5b041528",
   "metadata": {},
   "outputs": [],
   "source": [
    "import pandas as pd\n",
    "import os"
   ]
  },
  {
   "cell_type": "code",
   "execution_count": null,
   "id": "aba568a7",
   "metadata": {},
   "outputs": [],
   "source": [
    "folder_data = os.listdir (#путь к файлу)\n",
    "#or\n",
    "folder_data =[ i for i in os.listdir (путь к файлу) if not i.startswith('.') ]  \n"
   ]
  },
  {
   "cell_type": "code",
   "execution_count": null,
   "id": "7f0d7c1d",
   "metadata": {},
   "outputs": [],
   "source": [
    "#for i in folder_data:\n",
    "#    if i.startswith('.'):\n",
    "#        print(i)\n",
    "#[i for i in folder_data if not i.startswith('.') ]"
   ]
  },
  {
   "cell_type": "code",
   "execution_count": null,
   "id": "a2153aad",
   "metadata": {},
   "outputs": [],
   "source": [
    "p = '/blbablab'"
   ]
  },
  {
   "cell_type": "code",
   "execution_count": 1,
   "id": "ed3c994b",
   "metadata": {},
   "outputs": [
    {
     "name": "stdout",
     "output_type": "stream",
     "text": [
      "1 \n",
      "2\n"
     ]
    }
   ],
   "source": [
    "print ('1 \\n2')"
   ]
  },
  {
   "cell_type": "code",
   "execution_count": null,
   "id": "3f8ccaa1",
   "metadata": {},
   "outputs": [],
   "source": [
    "open (p).readlines()"
   ]
  },
  {
   "cell_type": "code",
   "execution_count": null,
   "id": "372c7f8d",
   "metadata": {},
   "outputs": [],
   "source": [
    "scanning = False\n",
    "for i in open (p).readlines():\n",
    "    if i.startswith ('-------') == 'end':\n",
    "        scanning=False\n",
    "        continue\n",
    "        \n",
    "    if scanning:\n",
    "        if 'Meal#;' in i:\n",
    "            col_name = i\n",
    "            continue\n",
    "    all_data.append(value.strip() for value in i.split(';'))\n",
    "        \n",
    "    if i =='----Non-deleted saved models----': #or if 'Non-deleted saved models' in i:\n",
    "        scanning= True\n",
    "        continue\n",
    "        \n"
   ]
  },
  {
   "cell_type": "code",
   "execution_count": null,
   "id": "2b8814c3",
   "metadata": {},
   "outputs": [],
   "source": [
    "final_col_name = [col.strip() for col in col_name.split(';')"
   ]
  },
  {
   "cell_type": "code",
   "execution_count": 15,
   "id": "d56afd6d",
   "metadata": {},
   "outputs": [
    {
     "name": "stdout",
     "output_type": "stream",
     "text": [
      "3\n",
      "4\n"
     ]
    }
   ],
   "source": [
    "# x = ['1','2','start', '3','4', 'end', '5', '6']\n",
    "# scanning = False\n",
    "# for i in x:\n",
    "    \n",
    "#     if i=='end':\n",
    "#         scanning = False\n",
    "#         continue\n",
    "#     if i=='start':\n",
    "#         scanning = True\n",
    "#         continue \n",
    "#     if scanning:\n",
    "#         print(i)\n",
    "        \n",
    "#     if i=='end':\n",
    "#         scanning = False\n",
    "#         continue"
   ]
  },
  {
   "cell_type": "code",
   "execution_count": 22,
   "id": "4288563d",
   "metadata": {},
   "outputs": [
    {
     "ename": "NameError",
     "evalue": "name 'editoriya_whore' is not defined",
     "output_type": "error",
     "traceback": [
      "\u001b[1;31m---------------------------------------------------------------------------\u001b[0m",
      "\u001b[1;31mNameError\u001b[0m                                 Traceback (most recent call last)",
      "\u001b[1;32m~\\AppData\\Local\\Temp/ipykernel_3028/2801991873.py\u001b[0m in \u001b[0;36m<module>\u001b[1;34m\u001b[0m\n\u001b[1;32m----> 1\u001b[1;33m \u001b[0meditoriya_whore\u001b[0m \u001b[1;33m==\u001b[0m \u001b[1;32mFalse\u001b[0m\u001b[1;33m\u001b[0m\u001b[1;33m\u001b[0m\u001b[0m\n\u001b[0m",
      "\u001b[1;31mNameError\u001b[0m: name 'editoriya_whore' is not defined"
     ]
    }
   ],
   "source": [
    "meal_df = pd.DataFrame (all_data,columns=final_col_names)"
   ]
  },
  {
   "cell_type": "code",
   "execution_count": null,
   "id": "6cfd4d19",
   "metadata": {},
   "outputs": [],
   "source": [
    "meal_df.astype ({'Minute':'int', 'Pro':'float'})"
   ]
  },
  {
   "cell_type": "code",
   "execution_count": null,
   "id": "96bfb128",
   "metadata": {},
   "outputs": [],
   "source": [
    "meal_df['Date'] = pd.to_datetime(meal_df.Date)"
   ]
  },
  {
   "cell_type": "code",
   "execution_count": null,
   "id": "9577c088",
   "metadata": {},
   "outputs": [],
   "source": [
    "user_meal_df = meal_df[['Date','Minute','Pro']]"
   ]
  }
 ],
 "metadata": {
  "kernelspec": {
   "display_name": "Python 3 (ipykernel)",
   "language": "python",
   "name": "python3"
  },
  "language_info": {
   "codemirror_mode": {
    "name": "ipython",
    "version": 3
   },
   "file_extension": ".py",
   "mimetype": "text/x-python",
   "name": "python",
   "nbconvert_exporter": "python",
   "pygments_lexer": "ipython3",
   "version": "3.9.7"
  }
 },
 "nbformat": 4,
 "nbformat_minor": 5
}
