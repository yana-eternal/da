{
 "cells": [
  {
   "cell_type": "code",
   "execution_count": null,
   "id": "6ef067f9",
   "metadata": {},
   "outputs": [],
   "source": [
    "#1\n",
    "Соберите все данные из папки data в один датафрэйм, имеющий \n",
    "следующие столбцы: колонки из самих файлов (product_id, quantity),\n",
    "а также имя пользователя (name), и дата этих покупок \n",
    "(date, соответствует названию папки, где лежит папка с пользователем)"
   ]
  },
  {
   "cell_type": "code",
   "execution_count": 104,
   "id": "41f6842f",
   "metadata": {},
   "outputs": [],
   "source": [
    "import pandas as pd\n",
    "import os"
   ]
  },
  {
   "cell_type": "code",
   "execution_count": 105,
   "id": "2ac80d35",
   "metadata": {},
   "outputs": [],
   "source": [
    "path = 'C:/Users/yana2/Рабочий стол/data'"
   ]
  },
  {
   "cell_type": "code",
   "execution_count": 5,
   "id": "bcc84076",
   "metadata": {},
   "outputs": [
    {
     "data": {
      "text/plain": [
       "['data.csv']"
      ]
     },
     "execution_count": 5,
     "metadata": {},
     "output_type": "execute_result"
    }
   ],
   "source": [
    "  os.listdir ('C:/Users/yana2/Рабочий стол/data/2020-12-04/Petr_Ivanov/')"
   ]
  },
  {
   "cell_type": "code",
   "execution_count": 6,
   "id": "aa9ff12c",
   "metadata": {},
   "outputs": [
    {
     "data": {
      "text/plain": [
       "[('C:/Users/yana2/Рабочий стол/data',\n",
       "  ['2020-12-03',\n",
       "   '2020-12-04',\n",
       "   '2020-12-05',\n",
       "   '2020-12-06',\n",
       "   '2020-12-07',\n",
       "   '2020-12-08',\n",
       "   '2020-12-09'],\n",
       "  []),\n",
       " ('C:/Users/yana2/Рабочий стол/data\\\\2020-12-03',\n",
       "  ['Alexey_Smirnov',\n",
       "   'Anton_Petrov',\n",
       "   'Kirill_Petrov',\n",
       "   'Petr_Fedorov',\n",
       "   'Vasiliy_Ivanov',\n",
       "   'Vasiliy_Petrov'],\n",
       "  []),\n",
       " ('C:/Users/yana2/Рабочий стол/data\\\\2020-12-03\\\\Alexey_Smirnov',\n",
       "  [],\n",
       "  ['data.csv']),\n",
       " ('C:/Users/yana2/Рабочий стол/data\\\\2020-12-03\\\\Anton_Petrov',\n",
       "  [],\n",
       "  ['data.csv']),\n",
       " ('C:/Users/yana2/Рабочий стол/data\\\\2020-12-03\\\\Kirill_Petrov',\n",
       "  [],\n",
       "  ['data.csv']),\n",
       " ('C:/Users/yana2/Рабочий стол/data\\\\2020-12-03\\\\Petr_Fedorov',\n",
       "  [],\n",
       "  ['data.csv']),\n",
       " ('C:/Users/yana2/Рабочий стол/data\\\\2020-12-03\\\\Vasiliy_Ivanov',\n",
       "  [],\n",
       "  ['data.csv']),\n",
       " ('C:/Users/yana2/Рабочий стол/data\\\\2020-12-03\\\\Vasiliy_Petrov',\n",
       "  [],\n",
       "  ['data.csv']),\n",
       " ('C:/Users/yana2/Рабочий стол/data\\\\2020-12-04',\n",
       "  ['Alexey_Smirnov',\n",
       "   'Kirill_Fedorov',\n",
       "   'Petr_Fedorov',\n",
       "   'Petr_Ivanov',\n",
       "   'Petr_Smirnov',\n",
       "   'Rostislav_Fedorov',\n",
       "   'Rostislav_Ivanov',\n",
       "   'Rostislav_Smirnov',\n",
       "   'Vasiliy_Ivanov'],\n",
       "  []),\n",
       " ('C:/Users/yana2/Рабочий стол/data\\\\2020-12-04\\\\Alexey_Smirnov',\n",
       "  [],\n",
       "  ['data.csv']),\n",
       " ('C:/Users/yana2/Рабочий стол/data\\\\2020-12-04\\\\Kirill_Fedorov',\n",
       "  [],\n",
       "  ['data.csv']),\n",
       " ('C:/Users/yana2/Рабочий стол/data\\\\2020-12-04\\\\Petr_Fedorov',\n",
       "  [],\n",
       "  ['data.csv']),\n",
       " ('C:/Users/yana2/Рабочий стол/data\\\\2020-12-04\\\\Petr_Ivanov',\n",
       "  [],\n",
       "  ['data.csv']),\n",
       " ('C:/Users/yana2/Рабочий стол/data\\\\2020-12-04\\\\Petr_Smirnov',\n",
       "  [],\n",
       "  ['data.csv']),\n",
       " ('C:/Users/yana2/Рабочий стол/data\\\\2020-12-04\\\\Rostislav_Fedorov',\n",
       "  [],\n",
       "  ['data.csv']),\n",
       " ('C:/Users/yana2/Рабочий стол/data\\\\2020-12-04\\\\Rostislav_Ivanov',\n",
       "  [],\n",
       "  ['data.csv']),\n",
       " ('C:/Users/yana2/Рабочий стол/data\\\\2020-12-04\\\\Rostislav_Smirnov',\n",
       "  [],\n",
       "  ['data.csv']),\n",
       " ('C:/Users/yana2/Рабочий стол/data\\\\2020-12-04\\\\Vasiliy_Ivanov',\n",
       "  [],\n",
       "  ['data.csv']),\n",
       " ('C:/Users/yana2/Рабочий стол/data\\\\2020-12-05',\n",
       "  ['Alexey_Fedorov',\n",
       "   'Alexey_Petrov',\n",
       "   'Kirill_Smirnov',\n",
       "   'Petr_Ivanov',\n",
       "   'Petr_Smirnov',\n",
       "   'Rostislav_Smirnov'],\n",
       "  []),\n",
       " ('C:/Users/yana2/Рабочий стол/data\\\\2020-12-05\\\\Alexey_Fedorov',\n",
       "  [],\n",
       "  ['data.csv']),\n",
       " ('C:/Users/yana2/Рабочий стол/data\\\\2020-12-05\\\\Alexey_Petrov',\n",
       "  [],\n",
       "  ['data.csv']),\n",
       " ('C:/Users/yana2/Рабочий стол/data\\\\2020-12-05\\\\Kirill_Smirnov',\n",
       "  [],\n",
       "  ['data.csv']),\n",
       " ('C:/Users/yana2/Рабочий стол/data\\\\2020-12-05\\\\Petr_Ivanov',\n",
       "  [],\n",
       "  ['data.csv']),\n",
       " ('C:/Users/yana2/Рабочий стол/data\\\\2020-12-05\\\\Petr_Smirnov',\n",
       "  [],\n",
       "  ['data.csv']),\n",
       " ('C:/Users/yana2/Рабочий стол/data\\\\2020-12-05\\\\Rostislav_Smirnov',\n",
       "  [],\n",
       "  ['data.csv']),\n",
       " ('C:/Users/yana2/Рабочий стол/data\\\\2020-12-06', ['Vasiliy_Fedorov'], []),\n",
       " ('C:/Users/yana2/Рабочий стол/data\\\\2020-12-06\\\\Vasiliy_Fedorov',\n",
       "  [],\n",
       "  ['data.csv']),\n",
       " ('C:/Users/yana2/Рабочий стол/data\\\\2020-12-07',\n",
       "  ['Alexey_Fedorov',\n",
       "   'Alexey_Ivanov',\n",
       "   'Alexey_Smirnov',\n",
       "   'Anton_Ivanov',\n",
       "   'Anton_Smirnov',\n",
       "   'Kirill_Fedorov',\n",
       "   'Petr_Fedorov',\n",
       "   'Petr_Smirnov',\n",
       "   'Rostislav_Fedorov',\n",
       "   'Vasiliy_Ivanov'],\n",
       "  []),\n",
       " ('C:/Users/yana2/Рабочий стол/data\\\\2020-12-07\\\\Alexey_Fedorov',\n",
       "  [],\n",
       "  ['data.csv']),\n",
       " ('C:/Users/yana2/Рабочий стол/data\\\\2020-12-07\\\\Alexey_Ivanov',\n",
       "  [],\n",
       "  ['data.csv']),\n",
       " ('C:/Users/yana2/Рабочий стол/data\\\\2020-12-07\\\\Alexey_Smirnov',\n",
       "  [],\n",
       "  ['data.csv']),\n",
       " ('C:/Users/yana2/Рабочий стол/data\\\\2020-12-07\\\\Anton_Ivanov',\n",
       "  [],\n",
       "  ['data.csv']),\n",
       " ('C:/Users/yana2/Рабочий стол/data\\\\2020-12-07\\\\Anton_Smirnov',\n",
       "  [],\n",
       "  ['data.csv']),\n",
       " ('C:/Users/yana2/Рабочий стол/data\\\\2020-12-07\\\\Kirill_Fedorov',\n",
       "  [],\n",
       "  ['data.csv']),\n",
       " ('C:/Users/yana2/Рабочий стол/data\\\\2020-12-07\\\\Petr_Fedorov',\n",
       "  [],\n",
       "  ['data.csv']),\n",
       " ('C:/Users/yana2/Рабочий стол/data\\\\2020-12-07\\\\Petr_Smirnov',\n",
       "  [],\n",
       "  ['data.csv']),\n",
       " ('C:/Users/yana2/Рабочий стол/data\\\\2020-12-07\\\\Rostislav_Fedorov',\n",
       "  [],\n",
       "  ['data.csv']),\n",
       " ('C:/Users/yana2/Рабочий стол/data\\\\2020-12-07\\\\Vasiliy_Ivanov',\n",
       "  [],\n",
       "  ['data.csv']),\n",
       " ('C:/Users/yana2/Рабочий стол/data\\\\2020-12-08',\n",
       "  ['Alexey_Fedorov',\n",
       "   'Anton_Smirnov',\n",
       "   'Kirill_Smirnov',\n",
       "   'Petr_Petrov',\n",
       "   'Rostislav_Petrov'],\n",
       "  []),\n",
       " ('C:/Users/yana2/Рабочий стол/data\\\\2020-12-08\\\\Alexey_Fedorov',\n",
       "  [],\n",
       "  ['data.csv']),\n",
       " ('C:/Users/yana2/Рабочий стол/data\\\\2020-12-08\\\\Anton_Smirnov',\n",
       "  [],\n",
       "  ['data.csv']),\n",
       " ('C:/Users/yana2/Рабочий стол/data\\\\2020-12-08\\\\Kirill_Smirnov',\n",
       "  [],\n",
       "  ['data.csv']),\n",
       " ('C:/Users/yana2/Рабочий стол/data\\\\2020-12-08\\\\Petr_Petrov',\n",
       "  [],\n",
       "  ['data.csv']),\n",
       " ('C:/Users/yana2/Рабочий стол/data\\\\2020-12-08\\\\Rostislav_Petrov',\n",
       "  [],\n",
       "  ['data.csv']),\n",
       " ('C:/Users/yana2/Рабочий стол/data\\\\2020-12-09',\n",
       "  ['Alexey_Smirnov',\n",
       "   'Anton_Ivanov',\n",
       "   'Anton_Petrov',\n",
       "   'Anton_Smirnov',\n",
       "   'Petr_Fedorov',\n",
       "   'Rostislav_Petrov',\n",
       "   'Vasiliy_Ivanov'],\n",
       "  []),\n",
       " ('C:/Users/yana2/Рабочий стол/data\\\\2020-12-09\\\\Alexey_Smirnov',\n",
       "  [],\n",
       "  ['data.csv']),\n",
       " ('C:/Users/yana2/Рабочий стол/data\\\\2020-12-09\\\\Anton_Ivanov',\n",
       "  [],\n",
       "  ['data.csv']),\n",
       " ('C:/Users/yana2/Рабочий стол/data\\\\2020-12-09\\\\Anton_Petrov',\n",
       "  [],\n",
       "  ['data.csv']),\n",
       " ('C:/Users/yana2/Рабочий стол/data\\\\2020-12-09\\\\Anton_Smirnov',\n",
       "  [],\n",
       "  ['data.csv']),\n",
       " ('C:/Users/yana2/Рабочий стол/data\\\\2020-12-09\\\\Petr_Fedorov',\n",
       "  [],\n",
       "  ['data.csv']),\n",
       " ('C:/Users/yana2/Рабочий стол/data\\\\2020-12-09\\\\Rostislav_Petrov',\n",
       "  [],\n",
       "  ['data.csv']),\n",
       " ('C:/Users/yana2/Рабочий стол/data\\\\2020-12-09\\\\Vasiliy_Ivanov',\n",
       "  [],\n",
       "  ['data.csv'])]"
      ]
     },
     "execution_count": 6,
     "metadata": {},
     "output_type": "execute_result"
    }
   ],
   "source": [
    "list (os.walk (path))"
   ]
  },
  {
   "cell_type": "code",
   "execution_count": 7,
   "id": "187843c8",
   "metadata": {},
   "outputs": [
    {
     "data": {
      "text/plain": [
       "['C:', 'Users', 'yana2', 'Рабочий стол', 'data']"
      ]
     },
     "execution_count": 7,
     "metadata": {},
     "output_type": "execute_result"
    }
   ],
   "source": [
    "path_col = 'C:/Users/yana2/Рабочий стол/data'.split('/') \n",
    "path_col\n"
   ]
  },
  {
   "cell_type": "code",
   "execution_count": 115,
   "id": "e16508f6",
   "metadata": {},
   "outputs": [
    {
     "data": {
      "text/plain": [
       "['C:/Users/yana2/Рабочий стол/data', '2020-12-09', 'Vasiliy_Ivanov']"
      ]
     },
     "execution_count": 115,
     "metadata": {},
     "output_type": "execute_result"
    }
   ],
   "source": [
    "path_parts = current_path.split('\\\\')\n",
    "path_parts"
   ]
  },
  {
   "cell_type": "code",
   "execution_count": 14,
   "id": "09479cae",
   "metadata": {},
   "outputs": [],
   "source": [
    "# create df for all data\n",
    "df = pd.DataFrame()\n",
    "#read data from all files and add it to general df\n",
    "for current_path,dirs,files in os.walk (path): \n",
    "     for file in files:\n",
    "        data_path = (f'{current_path}/{file}')\n",
    "        \n",
    "        #date,name\n",
    "        path_parts = current_path.split('\\\\')\n",
    "        date = path_parts[-2]\n",
    "        name = path_parts[-1]\n",
    "        temp_df = pd.read_csv(data_path)\n",
    "        temp_df['date'] = date\n",
    "        temp_df['name'] = name\n",
    "        df = pd.concat((df, temp_df))\n",
    "#         print (df.shape)\n",
    "    \n",
    "    \n",
    "\n",
    "# print(current_path,dirs,files)\n",
    "    "
   ]
  },
  {
   "cell_type": "code",
   "execution_count": null,
   "id": "e39754d1",
   "metadata": {},
   "outputs": [],
   "source": [
    "#different way"
   ]
  },
  {
   "cell_type": "code",
   "execution_count": 116,
   "id": "4cb60004",
   "metadata": {},
   "outputs": [],
   "source": [
    "from pathlib import Path"
   ]
  },
  {
   "cell_type": "code",
   "execution_count": 117,
   "id": "c2820da7",
   "metadata": {},
   "outputs": [],
   "source": [
    "path = Path('C:/Users/yana2/Рабочий стол/data')"
   ]
  },
  {
   "cell_type": "code",
   "execution_count": 128,
   "id": "372d649e",
   "metadata": {},
   "outputs": [],
   "source": [
    "# create df for all data\n",
    "df = pd.DataFrame()\n",
    "#read data from all files and add it to general df\n",
    "for current_path,dirs,files in os.walk (path): \n",
    "    for file in files:\n",
    "        part_path= Path(current_path)\n",
    "        data_path = part_path/file\n",
    "        #date,name\n",
    "        temp_df = pd.read_csv(data_path)\n",
    "        \n",
    "        date = data_path.parts[-3]\n",
    "        name = data_path.parts[-2]\n",
    "        \n",
    "        temp_df['date'] = date\n",
    "        temp_df['name'] = name\n",
    "        df = pd.concat((df, temp_df))\n",
    "#         print (df.shape)\n",
    "    \n",
    "    \n",
    "\n",
    "# print(current_path,dirs,files)\n",
    "    "
   ]
  },
  {
   "cell_type": "code",
   "execution_count": 129,
   "id": "407432a8",
   "metadata": {},
   "outputs": [
    {
     "data": {
      "text/html": [
       "<div>\n",
       "<style scoped>\n",
       "    .dataframe tbody tr th:only-of-type {\n",
       "        vertical-align: middle;\n",
       "    }\n",
       "\n",
       "    .dataframe tbody tr th {\n",
       "        vertical-align: top;\n",
       "    }\n",
       "\n",
       "    .dataframe thead th {\n",
       "        text-align: right;\n",
       "    }\n",
       "</style>\n",
       "<table border=\"1\" class=\"dataframe\">\n",
       "  <thead>\n",
       "    <tr style=\"text-align: right;\">\n",
       "      <th></th>\n",
       "      <th>Unnamed: 0</th>\n",
       "      <th>product_id</th>\n",
       "      <th>quantity</th>\n",
       "      <th>date</th>\n",
       "      <th>name</th>\n",
       "    </tr>\n",
       "  </thead>\n",
       "  <tbody>\n",
       "    <tr>\n",
       "      <th>0</th>\n",
       "      <td>0</td>\n",
       "      <td>47</td>\n",
       "      <td>1</td>\n",
       "      <td>2020-12-03</td>\n",
       "      <td>Alexey_Smirnov</td>\n",
       "    </tr>\n",
       "    <tr>\n",
       "      <th>1</th>\n",
       "      <td>1</td>\n",
       "      <td>57</td>\n",
       "      <td>1</td>\n",
       "      <td>2020-12-03</td>\n",
       "      <td>Alexey_Smirnov</td>\n",
       "    </tr>\n",
       "    <tr>\n",
       "      <th>2</th>\n",
       "      <td>2</td>\n",
       "      <td>14</td>\n",
       "      <td>2</td>\n",
       "      <td>2020-12-03</td>\n",
       "      <td>Alexey_Smirnov</td>\n",
       "    </tr>\n",
       "    <tr>\n",
       "      <th>3</th>\n",
       "      <td>3</td>\n",
       "      <td>52</td>\n",
       "      <td>1</td>\n",
       "      <td>2020-12-03</td>\n",
       "      <td>Alexey_Smirnov</td>\n",
       "    </tr>\n",
       "    <tr>\n",
       "      <th>4</th>\n",
       "      <td>4</td>\n",
       "      <td>1</td>\n",
       "      <td>4</td>\n",
       "      <td>2020-12-03</td>\n",
       "      <td>Alexey_Smirnov</td>\n",
       "    </tr>\n",
       "    <tr>\n",
       "      <th>...</th>\n",
       "      <td>...</td>\n",
       "      <td>...</td>\n",
       "      <td>...</td>\n",
       "      <td>...</td>\n",
       "      <td>...</td>\n",
       "    </tr>\n",
       "    <tr>\n",
       "      <th>1</th>\n",
       "      <td>1</td>\n",
       "      <td>66</td>\n",
       "      <td>4</td>\n",
       "      <td>2020-12-09</td>\n",
       "      <td>Rostislav_Petrov</td>\n",
       "    </tr>\n",
       "    <tr>\n",
       "      <th>2</th>\n",
       "      <td>2</td>\n",
       "      <td>39</td>\n",
       "      <td>2</td>\n",
       "      <td>2020-12-09</td>\n",
       "      <td>Rostislav_Petrov</td>\n",
       "    </tr>\n",
       "    <tr>\n",
       "      <th>0</th>\n",
       "      <td>0</td>\n",
       "      <td>82</td>\n",
       "      <td>4</td>\n",
       "      <td>2020-12-09</td>\n",
       "      <td>Vasiliy_Ivanov</td>\n",
       "    </tr>\n",
       "    <tr>\n",
       "      <th>1</th>\n",
       "      <td>1</td>\n",
       "      <td>74</td>\n",
       "      <td>2</td>\n",
       "      <td>2020-12-09</td>\n",
       "      <td>Vasiliy_Ivanov</td>\n",
       "    </tr>\n",
       "    <tr>\n",
       "      <th>2</th>\n",
       "      <td>2</td>\n",
       "      <td>54</td>\n",
       "      <td>3</td>\n",
       "      <td>2020-12-09</td>\n",
       "      <td>Vasiliy_Ivanov</td>\n",
       "    </tr>\n",
       "  </tbody>\n",
       "</table>\n",
       "<p>161 rows × 5 columns</p>\n",
       "</div>"
      ],
      "text/plain": [
       "    Unnamed: 0  product_id  quantity        date              name\n",
       "0            0          47         1  2020-12-03    Alexey_Smirnov\n",
       "1            1          57         1  2020-12-03    Alexey_Smirnov\n",
       "2            2          14         2  2020-12-03    Alexey_Smirnov\n",
       "3            3          52         1  2020-12-03    Alexey_Smirnov\n",
       "4            4           1         4  2020-12-03    Alexey_Smirnov\n",
       "..         ...         ...       ...         ...               ...\n",
       "1            1          66         4  2020-12-09  Rostislav_Petrov\n",
       "2            2          39         2  2020-12-09  Rostislav_Petrov\n",
       "0            0          82         4  2020-12-09    Vasiliy_Ivanov\n",
       "1            1          74         2  2020-12-09    Vasiliy_Ivanov\n",
       "2            2          54         3  2020-12-09    Vasiliy_Ivanov\n",
       "\n",
       "[161 rows x 5 columns]"
      ]
     },
     "execution_count": 129,
     "metadata": {},
     "output_type": "execute_result"
    }
   ],
   "source": [
    "df"
   ]
  },
  {
   "cell_type": "code",
   "execution_count": 125,
   "id": "9ae8b471",
   "metadata": {},
   "outputs": [
    {
     "data": {
      "text/plain": [
       "'data.csv'"
      ]
     },
     "execution_count": 125,
     "metadata": {},
     "output_type": "execute_result"
    }
   ],
   "source": [
    "data_path.name"
   ]
  },
  {
   "cell_type": "code",
   "execution_count": 127,
   "id": "afcec486",
   "metadata": {},
   "outputs": [
    {
     "data": {
      "text/plain": [
       "'Vasiliy_Ivanov'"
      ]
     },
     "execution_count": 127,
     "metadata": {},
     "output_type": "execute_result"
    }
   ],
   "source": [
    "data_path.parts [-2]"
   ]
  },
  {
   "cell_type": "code",
   "execution_count": 15,
   "id": "51b5e7e6",
   "metadata": {},
   "outputs": [],
   "source": [
    "df.drop(columns=['Unnamed: 0'],inplace = True)"
   ]
  },
  {
   "cell_type": "code",
   "execution_count": 16,
   "id": "2eff0428",
   "metadata": {},
   "outputs": [],
   "source": [
    " df.reset_index(drop=True,inplace = True)"
   ]
  },
  {
   "cell_type": "code",
   "execution_count": 17,
   "id": "98830589",
   "metadata": {},
   "outputs": [
    {
     "data": {
      "text/html": [
       "<div>\n",
       "<style scoped>\n",
       "    .dataframe tbody tr th:only-of-type {\n",
       "        vertical-align: middle;\n",
       "    }\n",
       "\n",
       "    .dataframe tbody tr th {\n",
       "        vertical-align: top;\n",
       "    }\n",
       "\n",
       "    .dataframe thead th {\n",
       "        text-align: right;\n",
       "    }\n",
       "</style>\n",
       "<table border=\"1\" class=\"dataframe\">\n",
       "  <thead>\n",
       "    <tr style=\"text-align: right;\">\n",
       "      <th></th>\n",
       "      <th>product_id</th>\n",
       "      <th>quantity</th>\n",
       "      <th>date</th>\n",
       "      <th>name</th>\n",
       "    </tr>\n",
       "  </thead>\n",
       "  <tbody>\n",
       "    <tr>\n",
       "      <th>0</th>\n",
       "      <td>47</td>\n",
       "      <td>1</td>\n",
       "      <td>2020-12-03</td>\n",
       "      <td>Alexey_Smirnov</td>\n",
       "    </tr>\n",
       "    <tr>\n",
       "      <th>1</th>\n",
       "      <td>57</td>\n",
       "      <td>1</td>\n",
       "      <td>2020-12-03</td>\n",
       "      <td>Alexey_Smirnov</td>\n",
       "    </tr>\n",
       "    <tr>\n",
       "      <th>2</th>\n",
       "      <td>14</td>\n",
       "      <td>2</td>\n",
       "      <td>2020-12-03</td>\n",
       "      <td>Alexey_Smirnov</td>\n",
       "    </tr>\n",
       "    <tr>\n",
       "      <th>3</th>\n",
       "      <td>52</td>\n",
       "      <td>1</td>\n",
       "      <td>2020-12-03</td>\n",
       "      <td>Alexey_Smirnov</td>\n",
       "    </tr>\n",
       "    <tr>\n",
       "      <th>4</th>\n",
       "      <td>1</td>\n",
       "      <td>4</td>\n",
       "      <td>2020-12-03</td>\n",
       "      <td>Alexey_Smirnov</td>\n",
       "    </tr>\n",
       "  </tbody>\n",
       "</table>\n",
       "</div>"
      ],
      "text/plain": [
       "   product_id  quantity        date            name\n",
       "0          47         1  2020-12-03  Alexey_Smirnov\n",
       "1          57         1  2020-12-03  Alexey_Smirnov\n",
       "2          14         2  2020-12-03  Alexey_Smirnov\n",
       "3          52         1  2020-12-03  Alexey_Smirnov\n",
       "4           1         4  2020-12-03  Alexey_Smirnov"
      ]
     },
     "execution_count": 17,
     "metadata": {},
     "output_type": "execute_result"
    }
   ],
   "source": [
    "df.head()"
   ]
  },
  {
   "cell_type": "code",
   "execution_count": 18,
   "id": "44af5d18",
   "metadata": {},
   "outputs": [
    {
     "ename": "SyntaxError",
     "evalue": "invalid syntax (Temp/ipykernel_11212/3716241356.py, line 2)",
     "output_type": "error",
     "traceback": [
      "\u001b[1;36m  File \u001b[1;32m\"C:\\Users\\yana2\\AppData\\Local\\Temp/ipykernel_11212/3716241356.py\"\u001b[1;36m, line \u001b[1;32m2\u001b[0m\n\u001b[1;33m    Выясните, какой пользователь купил больше всего товаров.\u001b[0m\n\u001b[1;37m                                                            ^\u001b[0m\n\u001b[1;31mSyntaxError\u001b[0m\u001b[1;31m:\u001b[0m invalid syntax\n"
     ]
    }
   ],
   "source": [
    "#2\n",
    "Выясните, какой пользователь купил больше всего товаров.\n",
    "Если их несколько, то перечислите имена через запятую с пробелом и в алфавитном порядке."
   ]
  },
  {
   "cell_type": "code",
   "execution_count": 19,
   "id": "241b6b5c",
   "metadata": {},
   "outputs": [],
   "source": [
    "df_quantity =df.groupby('name', as_index = False) \\\n",
    "            .agg({'quantity':'sum'}) \\\n",
    "            .sort_values ('quantity', ascending=False)\n",
    "df_quantity.reset_index(drop=True, inplace=True)\n",
    "df_quantity = df_quantity.head(2)"
   ]
  },
  {
   "cell_type": "code",
   "execution_count": 20,
   "id": "d117876a",
   "metadata": {},
   "outputs": [
    {
     "data": {
      "text/html": [
       "<div>\n",
       "<style scoped>\n",
       "    .dataframe tbody tr th:only-of-type {\n",
       "        vertical-align: middle;\n",
       "    }\n",
       "\n",
       "    .dataframe tbody tr th {\n",
       "        vertical-align: top;\n",
       "    }\n",
       "\n",
       "    .dataframe thead th {\n",
       "        text-align: right;\n",
       "    }\n",
       "</style>\n",
       "<table border=\"1\" class=\"dataframe\">\n",
       "  <thead>\n",
       "    <tr style=\"text-align: right;\">\n",
       "      <th></th>\n",
       "      <th>name</th>\n",
       "      <th>quantity</th>\n",
       "    </tr>\n",
       "  </thead>\n",
       "  <tbody>\n",
       "    <tr>\n",
       "      <th>0</th>\n",
       "      <td>Alexey_Smirnov</td>\n",
       "      <td>52</td>\n",
       "    </tr>\n",
       "    <tr>\n",
       "      <th>1</th>\n",
       "      <td>Petr_Smirnov</td>\n",
       "      <td>52</td>\n",
       "    </tr>\n",
       "  </tbody>\n",
       "</table>\n",
       "</div>"
      ],
      "text/plain": [
       "             name  quantity\n",
       "0  Alexey_Smirnov        52\n",
       "1    Petr_Smirnov        52"
      ]
     },
     "execution_count": 20,
     "metadata": {},
     "output_type": "execute_result"
    }
   ],
   "source": [
    "df_quantity"
   ]
  },
  {
   "cell_type": "code",
   "execution_count": 21,
   "id": "433fc776",
   "metadata": {},
   "outputs": [
    {
     "data": {
      "text/plain": [
       "'Alexey_Smirnov,Petr_Smirnov'"
      ]
     },
     "execution_count": 21,
     "metadata": {},
     "output_type": "execute_result"
    }
   ],
   "source": [
    "top_client = ','.join(df_quantity.name)\n",
    "top_client"
   ]
  },
  {
   "cell_type": "code",
   "execution_count": 22,
   "id": "0dd70dcf",
   "metadata": {},
   "outputs": [
    {
     "ename": "SyntaxError",
     "evalue": "invalid syntax (Temp/ipykernel_11212/3093815954.py, line 2)",
     "output_type": "error",
     "traceback": [
      "\u001b[1;36m  File \u001b[1;32m\"C:\\Users\\yana2\\AppData\\Local\\Temp/ipykernel_11212/3093815954.py\"\u001b[1;36m, line \u001b[1;32m2\u001b[0m\n\u001b[1;33m    Найдите топ-10 товаров по числу проданных единиц за всё время и постройте барплот.\u001b[0m\n\u001b[1;37m            ^\u001b[0m\n\u001b[1;31mSyntaxError\u001b[0m\u001b[1;31m:\u001b[0m invalid syntax\n"
     ]
    }
   ],
   "source": [
    "#3\n",
    "Найдите топ-10 товаров по числу проданных единиц за всё время и постройте барплот. \n",
    "Сколько было продано единиц товара с product_id==56?"
   ]
  },
  {
   "cell_type": "code",
   "execution_count": 23,
   "id": "321ef0b0",
   "metadata": {},
   "outputs": [
    {
     "data": {
      "text/html": [
       "<div>\n",
       "<style scoped>\n",
       "    .dataframe tbody tr th:only-of-type {\n",
       "        vertical-align: middle;\n",
       "    }\n",
       "\n",
       "    .dataframe tbody tr th {\n",
       "        vertical-align: top;\n",
       "    }\n",
       "\n",
       "    .dataframe thead th {\n",
       "        text-align: right;\n",
       "    }\n",
       "</style>\n",
       "<table border=\"1\" class=\"dataframe\">\n",
       "  <thead>\n",
       "    <tr style=\"text-align: right;\">\n",
       "      <th></th>\n",
       "      <th>product_id</th>\n",
       "      <th>quantity</th>\n",
       "    </tr>\n",
       "  </thead>\n",
       "  <tbody>\n",
       "    <tr>\n",
       "      <th>22</th>\n",
       "      <td>27</td>\n",
       "      <td>20</td>\n",
       "    </tr>\n",
       "    <tr>\n",
       "      <th>42</th>\n",
       "      <td>56</td>\n",
       "      <td>18</td>\n",
       "    </tr>\n",
       "    <tr>\n",
       "      <th>21</th>\n",
       "      <td>24</td>\n",
       "      <td>15</td>\n",
       "    </tr>\n",
       "    <tr>\n",
       "      <th>51</th>\n",
       "      <td>74</td>\n",
       "      <td>15</td>\n",
       "    </tr>\n",
       "    <tr>\n",
       "      <th>32</th>\n",
       "      <td>41</td>\n",
       "      <td>14</td>\n",
       "    </tr>\n",
       "    <tr>\n",
       "      <th>27</th>\n",
       "      <td>34</td>\n",
       "      <td>13</td>\n",
       "    </tr>\n",
       "    <tr>\n",
       "      <th>66</th>\n",
       "      <td>94</td>\n",
       "      <td>13</td>\n",
       "    </tr>\n",
       "    <tr>\n",
       "      <th>46</th>\n",
       "      <td>66</td>\n",
       "      <td>13</td>\n",
       "    </tr>\n",
       "    <tr>\n",
       "      <th>65</th>\n",
       "      <td>92</td>\n",
       "      <td>12</td>\n",
       "    </tr>\n",
       "    <tr>\n",
       "      <th>38</th>\n",
       "      <td>50</td>\n",
       "      <td>12</td>\n",
       "    </tr>\n",
       "  </tbody>\n",
       "</table>\n",
       "</div>"
      ],
      "text/plain": [
       "    product_id  quantity\n",
       "22          27        20\n",
       "42          56        18\n",
       "21          24        15\n",
       "51          74        15\n",
       "32          41        14\n",
       "27          34        13\n",
       "66          94        13\n",
       "46          66        13\n",
       "65          92        12\n",
       "38          50        12"
      ]
     },
     "execution_count": 23,
     "metadata": {},
     "output_type": "execute_result"
    }
   ],
   "source": [
    "top_10 =df.groupby('product_id', as_index=False) \\\n",
    "    .agg({'quantity':'sum'}) \\\n",
    "    .sort_values ('quantity', ascending=False) \\\n",
    "    .head(10)\n",
    "top_10"
   ]
  },
  {
   "cell_type": "code",
   "execution_count": 24,
   "id": "9589b1d9",
   "metadata": {},
   "outputs": [],
   "source": [
    "import seaborn as sns\n",
    "import matplotlib.pyplot as plt\n"
   ]
  },
  {
   "cell_type": "code",
   "execution_count": 25,
   "id": "518cb80f",
   "metadata": {},
   "outputs": [
    {
     "data": {
      "text/plain": [
       "<AxesSubplot:xlabel='product_id', ylabel='quantity'>"
      ]
     },
     "execution_count": 25,
     "metadata": {},
     "output_type": "execute_result"
    },
    {
     "data": {
      "image/png": "[encoded data removed]",
      "text/plain": [
       "<Figure size 432x288 with 1 Axes>"
      ]
     },
     "metadata": {
      "needs_background": "light"
     },
     "output_type": "display_data"
    }
   ],
   "source": [
    "sns.barplot(data = top_10, x= 'product_id', y ='quantity',palette = 'cubehelix', alpha = 0.99, hue='quantity',dodge=False )\n"
   ]
  },
  {
   "cell_type": "code",
   "execution_count": 26,
   "id": "20b05fc8",
   "metadata": {},
   "outputs": [
    {
     "ename": "SyntaxError",
     "evalue": "invalid syntax (Temp/ipykernel_11212/3260147631.py, line 2)",
     "output_type": "error",
     "traceback": [
      "\u001b[1;36m  File \u001b[1;32m\"C:\\Users\\yana2\\AppData\\Local\\Temp/ipykernel_11212/3260147631.py\"\u001b[1;36m, line \u001b[1;32m2\u001b[0m\n\u001b[1;33m    Визуализируйте продажи по дням.\u001b[0m\n\u001b[1;37m                   ^\u001b[0m\n\u001b[1;31mSyntaxError\u001b[0m\u001b[1;31m:\u001b[0m invalid syntax\n"
     ]
    }
   ],
   "source": [
    "#4\n",
    "Визуализируйте продажи по дням."
   ]
  },
  {
   "cell_type": "code",
   "execution_count": 131,
   "id": "fe2b97a0",
   "metadata": {},
   "outputs": [],
   "source": [
    "df['date']= pd.to_datetime(df.date) \n"
   ]
  },
  {
   "cell_type": "code",
   "execution_count": 132,
   "id": "cdb95ade",
   "metadata": {},
   "outputs": [],
   "source": [
    "df ['day'] = df.date.dt.day"
   ]
  },
  {
   "cell_type": "code",
   "execution_count": 136,
   "id": "ac3e5c3c",
   "metadata": {},
   "outputs": [
    {
     "data": {
      "text/html": [
       "<div>\n",
       "<style scoped>\n",
       "    .dataframe tbody tr th:only-of-type {\n",
       "        vertical-align: middle;\n",
       "    }\n",
       "\n",
       "    .dataframe tbody tr th {\n",
       "        vertical-align: top;\n",
       "    }\n",
       "\n",
       "    .dataframe thead th {\n",
       "        text-align: right;\n",
       "    }\n",
       "</style>\n",
       "<table border=\"1\" class=\"dataframe\">\n",
       "  <thead>\n",
       "    <tr style=\"text-align: right;\">\n",
       "      <th></th>\n",
       "      <th>quantity</th>\n",
       "    </tr>\n",
       "    <tr>\n",
       "      <th>day</th>\n",
       "      <th></th>\n",
       "    </tr>\n",
       "  </thead>\n",
       "  <tbody>\n",
       "    <tr>\n",
       "      <th>3</th>\n",
       "      <td>60</td>\n",
       "    </tr>\n",
       "    <tr>\n",
       "      <th>4</th>\n",
       "      <td>113</td>\n",
       "    </tr>\n",
       "    <tr>\n",
       "      <th>5</th>\n",
       "      <td>61</td>\n",
       "    </tr>\n",
       "    <tr>\n",
       "      <th>6</th>\n",
       "      <td>15</td>\n",
       "    </tr>\n",
       "    <tr>\n",
       "      <th>7</th>\n",
       "      <td>94</td>\n",
       "    </tr>\n",
       "    <tr>\n",
       "      <th>8</th>\n",
       "      <td>68</td>\n",
       "    </tr>\n",
       "    <tr>\n",
       "      <th>9</th>\n",
       "      <td>69</td>\n",
       "    </tr>\n",
       "  </tbody>\n",
       "</table>\n",
       "</div>"
      ],
      "text/plain": [
       "     quantity\n",
       "day          \n",
       "3          60\n",
       "4         113\n",
       "5          61\n",
       "6          15\n",
       "7          94\n",
       "8          68\n",
       "9          69"
      ]
     },
     "execution_count": 136,
     "metadata": {},
     "output_type": "execute_result"
    }
   ],
   "source": [
    "data = df.groupby ('day',as_index=True) \\\n",
    "   .agg({'quantity':'sum'}) \n",
    "data"
   ]
  },
  {
   "cell_type": "code",
   "execution_count": 139,
   "id": "59b7e7f9",
   "metadata": {},
   "outputs": [
    {
     "data": {
      "image/png": "[encoded data removed]",
      "text/plain": [
       "<Figure size 360x360 with 1 Axes>"
      ]
     },
     "metadata": {},
     "output_type": "display_data"
    }
   ],
   "source": [
    "plot = data.plot.pie(subplots = True, figsize=(5, 5), autopct='%1.1f%%')"
   ]
  },
  {
   "cell_type": "code",
   "execution_count": 141,
   "id": "cce70af5",
   "metadata": {},
   "outputs": [
    {
     "data": {
      "text/plain": [
       "<AxesSubplot:xlabel='day'>"
      ]
     },
     "execution_count": 141,
     "metadata": {},
     "output_type": "execute_result"
    },
    {
     "data": {
      "image/png": "[encoded data removed]",
      "text/plain": [
       "<Figure size 432x288 with 1 Axes>"
      ]
     },
     "metadata": {
      "needs_background": "light"
     },
     "output_type": "display_data"
    }
   ],
   "source": [
    "#or\n",
    "data.plot(kind='bar')"
   ]
  },
  {
   "cell_type": "code",
   "execution_count": null,
   "id": "91462065",
   "metadata": {},
   "outputs": [],
   "source": [
    "#5\n",
    "Сколько пользователей приобрели какой-либо товар повторно (более 1 раза)? \n",
    "Повтором будем считать покупку товара с одинаковым product_id, совершенную в разные дни. "
   ]
  },
  {
   "cell_type": "code",
   "execution_count": 68,
   "id": "7a350485",
   "metadata": {},
   "outputs": [
    {
     "data": {
      "text/html": [
       "<div>\n",
       "<style scoped>\n",
       "    .dataframe tbody tr th:only-of-type {\n",
       "        vertical-align: middle;\n",
       "    }\n",
       "\n",
       "    .dataframe tbody tr th {\n",
       "        vertical-align: top;\n",
       "    }\n",
       "\n",
       "    .dataframe thead th {\n",
       "        text-align: right;\n",
       "    }\n",
       "</style>\n",
       "<table border=\"1\" class=\"dataframe\">\n",
       "  <thead>\n",
       "    <tr style=\"text-align: right;\">\n",
       "      <th></th>\n",
       "      <th>product_id</th>\n",
       "      <th>quantity</th>\n",
       "      <th>date</th>\n",
       "      <th>name</th>\n",
       "      <th>day</th>\n",
       "    </tr>\n",
       "  </thead>\n",
       "  <tbody>\n",
       "    <tr>\n",
       "      <th>0</th>\n",
       "      <td>47</td>\n",
       "      <td>1</td>\n",
       "      <td>2020-12-03</td>\n",
       "      <td>Alexey_Smirnov</td>\n",
       "      <td>3</td>\n",
       "    </tr>\n",
       "    <tr>\n",
       "      <th>1</th>\n",
       "      <td>57</td>\n",
       "      <td>1</td>\n",
       "      <td>2020-12-03</td>\n",
       "      <td>Alexey_Smirnov</td>\n",
       "      <td>3</td>\n",
       "    </tr>\n",
       "    <tr>\n",
       "      <th>2</th>\n",
       "      <td>14</td>\n",
       "      <td>2</td>\n",
       "      <td>2020-12-03</td>\n",
       "      <td>Alexey_Smirnov</td>\n",
       "      <td>3</td>\n",
       "    </tr>\n",
       "    <tr>\n",
       "      <th>3</th>\n",
       "      <td>52</td>\n",
       "      <td>1</td>\n",
       "      <td>2020-12-03</td>\n",
       "      <td>Alexey_Smirnov</td>\n",
       "      <td>3</td>\n",
       "    </tr>\n",
       "    <tr>\n",
       "      <th>4</th>\n",
       "      <td>1</td>\n",
       "      <td>4</td>\n",
       "      <td>2020-12-03</td>\n",
       "      <td>Alexey_Smirnov</td>\n",
       "      <td>3</td>\n",
       "    </tr>\n",
       "    <tr>\n",
       "      <th>...</th>\n",
       "      <td>...</td>\n",
       "      <td>...</td>\n",
       "      <td>...</td>\n",
       "      <td>...</td>\n",
       "      <td>...</td>\n",
       "    </tr>\n",
       "    <tr>\n",
       "      <th>156</th>\n",
       "      <td>66</td>\n",
       "      <td>4</td>\n",
       "      <td>2020-12-09</td>\n",
       "      <td>Rostislav_Petrov</td>\n",
       "      <td>9</td>\n",
       "    </tr>\n",
       "    <tr>\n",
       "      <th>157</th>\n",
       "      <td>39</td>\n",
       "      <td>2</td>\n",
       "      <td>2020-12-09</td>\n",
       "      <td>Rostislav_Petrov</td>\n",
       "      <td>9</td>\n",
       "    </tr>\n",
       "    <tr>\n",
       "      <th>158</th>\n",
       "      <td>82</td>\n",
       "      <td>4</td>\n",
       "      <td>2020-12-09</td>\n",
       "      <td>Vasiliy_Ivanov</td>\n",
       "      <td>9</td>\n",
       "    </tr>\n",
       "    <tr>\n",
       "      <th>159</th>\n",
       "      <td>74</td>\n",
       "      <td>2</td>\n",
       "      <td>2020-12-09</td>\n",
       "      <td>Vasiliy_Ivanov</td>\n",
       "      <td>9</td>\n",
       "    </tr>\n",
       "    <tr>\n",
       "      <th>160</th>\n",
       "      <td>54</td>\n",
       "      <td>3</td>\n",
       "      <td>2020-12-09</td>\n",
       "      <td>Vasiliy_Ivanov</td>\n",
       "      <td>9</td>\n",
       "    </tr>\n",
       "  </tbody>\n",
       "</table>\n",
       "<p>161 rows × 5 columns</p>\n",
       "</div>"
      ],
      "text/plain": [
       "     product_id  quantity       date              name  day\n",
       "0            47         1 2020-12-03    Alexey_Smirnov    3\n",
       "1            57         1 2020-12-03    Alexey_Smirnov    3\n",
       "2            14         2 2020-12-03    Alexey_Smirnov    3\n",
       "3            52         1 2020-12-03    Alexey_Smirnov    3\n",
       "4             1         4 2020-12-03    Alexey_Smirnov    3\n",
       "..          ...       ...        ...               ...  ...\n",
       "156          66         4 2020-12-09  Rostislav_Petrov    9\n",
       "157          39         2 2020-12-09  Rostislav_Petrov    9\n",
       "158          82         4 2020-12-09    Vasiliy_Ivanov    9\n",
       "159          74         2 2020-12-09    Vasiliy_Ivanov    9\n",
       "160          54         3 2020-12-09    Vasiliy_Ivanov    9\n",
       "\n",
       "[161 rows x 5 columns]"
      ]
     },
     "execution_count": 68,
     "metadata": {},
     "output_type": "execute_result"
    }
   ],
   "source": [
    "df"
   ]
  },
  {
   "cell_type": "code",
   "execution_count": 91,
   "id": "15d1a423",
   "metadata": {},
   "outputs": [
    {
     "data": {
      "text/html": [
       "<div>\n",
       "<style scoped>\n",
       "    .dataframe tbody tr th:only-of-type {\n",
       "        vertical-align: middle;\n",
       "    }\n",
       "\n",
       "    .dataframe tbody tr th {\n",
       "        vertical-align: top;\n",
       "    }\n",
       "\n",
       "    .dataframe thead th {\n",
       "        text-align: right;\n",
       "    }\n",
       "</style>\n",
       "<table border=\"1\" class=\"dataframe\">\n",
       "  <thead>\n",
       "    <tr style=\"text-align: right;\">\n",
       "      <th></th>\n",
       "      <th>product_id</th>\n",
       "      <th>quantity</th>\n",
       "      <th>name</th>\n",
       "    </tr>\n",
       "  </thead>\n",
       "  <tbody>\n",
       "    <tr>\n",
       "      <th>0</th>\n",
       "      <td>27</td>\n",
       "      <td>5</td>\n",
       "      <td>5</td>\n",
       "    </tr>\n",
       "    <tr>\n",
       "      <th>1</th>\n",
       "      <td>74</td>\n",
       "      <td>4</td>\n",
       "      <td>4</td>\n",
       "    </tr>\n",
       "    <tr>\n",
       "      <th>2</th>\n",
       "      <td>66</td>\n",
       "      <td>4</td>\n",
       "      <td>4</td>\n",
       "    </tr>\n",
       "    <tr>\n",
       "      <th>3</th>\n",
       "      <td>24</td>\n",
       "      <td>4</td>\n",
       "      <td>4</td>\n",
       "    </tr>\n",
       "    <tr>\n",
       "      <th>4</th>\n",
       "      <td>56</td>\n",
       "      <td>4</td>\n",
       "      <td>4</td>\n",
       "    </tr>\n",
       "    <tr>\n",
       "      <th>...</th>\n",
       "      <td>...</td>\n",
       "      <td>...</td>\n",
       "      <td>...</td>\n",
       "    </tr>\n",
       "    <tr>\n",
       "      <th>61</th>\n",
       "      <td>49</td>\n",
       "      <td>1</td>\n",
       "      <td>1</td>\n",
       "    </tr>\n",
       "    <tr>\n",
       "      <th>62</th>\n",
       "      <td>54</td>\n",
       "      <td>1</td>\n",
       "      <td>1</td>\n",
       "    </tr>\n",
       "    <tr>\n",
       "      <th>63</th>\n",
       "      <td>61</td>\n",
       "      <td>1</td>\n",
       "      <td>1</td>\n",
       "    </tr>\n",
       "    <tr>\n",
       "      <th>64</th>\n",
       "      <td>70</td>\n",
       "      <td>1</td>\n",
       "      <td>1</td>\n",
       "    </tr>\n",
       "    <tr>\n",
       "      <th>65</th>\n",
       "      <td>44</td>\n",
       "      <td>1</td>\n",
       "      <td>1</td>\n",
       "    </tr>\n",
       "  </tbody>\n",
       "</table>\n",
       "<p>66 rows × 3 columns</p>\n",
       "</div>"
      ],
      "text/plain": [
       "    product_id  quantity  name\n",
       "0           27         5     5\n",
       "1           74         4     4\n",
       "2           66         4     4\n",
       "3           24         4     4\n",
       "4           56         4     4\n",
       "..         ...       ...   ...\n",
       "61          49         1     1\n",
       "62          54         1     1\n",
       "63          61         1     1\n",
       "64          70         1     1\n",
       "65          44         1     1\n",
       "\n",
       "[66 rows x 3 columns]"
      ]
     },
     "execution_count": 91,
     "metadata": {},
     "output_type": "execute_result"
    }
   ],
   "source": [
    "user_repeat = df.query('quantity > 1') \\\n",
    "                .groupby('product_id', as_index=False) \\\n",
    "                .agg({'quantity':'count', 'name':'count'}) \\\n",
    "                .sort_values ('quantity', ascending=False) \n",
    "\n",
    "user_repeat.reset_index(drop=True, inplace=True)\n",
    "user_repeat\n",
    "   "
   ]
  },
  {
   "cell_type": "code",
   "execution_count": 143,
   "id": "0b59ee88",
   "metadata": {},
   "outputs": [
    {
     "data": {
      "text/html": [
       "<div>\n",
       "<style scoped>\n",
       "    .dataframe tbody tr th:only-of-type {\n",
       "        vertical-align: middle;\n",
       "    }\n",
       "\n",
       "    .dataframe tbody tr th {\n",
       "        vertical-align: top;\n",
       "    }\n",
       "\n",
       "    .dataframe thead th {\n",
       "        text-align: right;\n",
       "    }\n",
       "</style>\n",
       "<table border=\"1\" class=\"dataframe\">\n",
       "  <thead>\n",
       "    <tr style=\"text-align: right;\">\n",
       "      <th></th>\n",
       "      <th></th>\n",
       "      <th>date</th>\n",
       "    </tr>\n",
       "    <tr>\n",
       "      <th>name</th>\n",
       "      <th>product_id</th>\n",
       "      <th></th>\n",
       "    </tr>\n",
       "  </thead>\n",
       "  <tbody>\n",
       "    <tr>\n",
       "      <th>Anton_Ivanov</th>\n",
       "      <th>15</th>\n",
       "      <td>2</td>\n",
       "    </tr>\n",
       "    <tr>\n",
       "      <th>Petr_Fedorov</th>\n",
       "      <th>94</th>\n",
       "      <td>2</td>\n",
       "    </tr>\n",
       "  </tbody>\n",
       "</table>\n",
       "</div>"
      ],
      "text/plain": [
       "                         date\n",
       "name         product_id      \n",
       "Anton_Ivanov 15             2\n",
       "Petr_Fedorov 94             2"
      ]
     },
     "execution_count": 143,
     "metadata": {},
     "output_type": "execute_result"
    }
   ],
   "source": [
    "df.groupby(['name','product_id']) \\\n",
    "    .agg({'date':pd.Series.nunique}) \\\n",
    "    .query('date>1')"
   ]
  },
  {
   "cell_type": "code",
   "execution_count": null,
   "id": "44504bf9",
   "metadata": {},
   "outputs": [],
   "source": []
  }
 ],
 "metadata": {
  "kernelspec": {
   "display_name": "Python 3 (ipykernel)",
   "language": "python",
   "name": "python3"
  },
  "language_info": {
   "codemirror_mode": {
    "name": "ipython",
    "version": 3
   },
   "file_extension": ".py",
   "mimetype": "text/x-python",
   "name": "python",
   "nbconvert_exporter": "python",
   "pygments_lexer": "ipython3",
   "version": "3.9.7"
  }
 },
 "nbformat": 4,
 "nbformat_minor": 5
}
