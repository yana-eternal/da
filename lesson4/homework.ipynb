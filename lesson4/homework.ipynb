{
 "cells": [
  {
   "cell_type": "code",
   "execution_count": null,
   "id": "8ac8161a",
   "metadata": {},
   "outputs": [],
   "source": [
    "#1)\n",
    "В переменной df находится датафрэйм. Ваша задача положить в переменную  \n",
    "df_shape строку с информацией сколько линий и столбцов он имеет в следующем виде:\n",
    "'df has y rows and x columns'\n",
    "где y – число строк, а x – число колонок."
   ]
  },
  {
   "cell_type": "code",
   "execution_count": 1,
   "id": "b0daf291",
   "metadata": {},
   "outputs": [],
   "source": [
    "import pandas as pd"
   ]
  },
  {
   "cell_type": "code",
   "execution_count": 250,
   "id": "86a94a2b",
   "metadata": {},
   "outputs": [
    {
     "data": {
      "text/html": [
       "<div>\n",
       "<style scoped>\n",
       "    .dataframe tbody tr th:only-of-type {\n",
       "        vertical-align: middle;\n",
       "    }\n",
       "\n",
       "    .dataframe tbody tr th {\n",
       "        vertical-align: top;\n",
       "    }\n",
       "\n",
       "    .dataframe thead th {\n",
       "        text-align: right;\n",
       "    }\n",
       "</style>\n",
       "<table border=\"1\" class=\"dataframe\">\n",
       "  <thead>\n",
       "    <tr style=\"text-align: right;\">\n",
       "      <th></th>\n",
       "      <th>bla</th>\n",
       "      <th>che</th>\n",
       "      <th>name</th>\n",
       "    </tr>\n",
       "  </thead>\n",
       "  <tbody>\n",
       "    <tr>\n",
       "      <th>0</th>\n",
       "      <td>5246.0</td>\n",
       "      <td>40.24</td>\n",
       "      <td>True</td>\n",
       "    </tr>\n",
       "    <tr>\n",
       "      <th>1</th>\n",
       "      <td>NaN</td>\n",
       "      <td>20.58</td>\n",
       "      <td>None</td>\n",
       "    </tr>\n",
       "    <tr>\n",
       "      <th>2</th>\n",
       "      <td>2462.0</td>\n",
       "      <td>NaN</td>\n",
       "      <td>False</td>\n",
       "    </tr>\n",
       "    <tr>\n",
       "      <th>3</th>\n",
       "      <td>5246.0</td>\n",
       "      <td>20.58</td>\n",
       "      <td>True</td>\n",
       "    </tr>\n",
       "  </tbody>\n",
       "</table>\n",
       "</div>"
      ],
      "text/plain": [
       "      bla    che   name\n",
       "0  5246.0  40.24   True\n",
       "1     NaN  20.58   None\n",
       "2  2462.0    NaN  False\n",
       "3  5246.0  20.58   True"
      ]
     },
     "execution_count": 250,
     "metadata": {},
     "output_type": "execute_result"
    }
   ],
   "source": [
    "df = pd.DataFrame ({\n",
    "    'bla':[5246,None,2462,5246],\n",
    "    'che':[40.24,20.58,None,20.58],\n",
    "    'name':['True',None,'False','True']\n",
    "    \n",
    "})\n",
    "\n",
    "df"
   ]
  },
  {
   "cell_type": "code",
   "execution_count": 109,
   "id": "a08d8ee4",
   "metadata": {},
   "outputs": [
    {
     "data": {
      "text/plain": [
       "'df has 4 rows and 3 columns'"
      ]
     },
     "execution_count": 109,
     "metadata": {},
     "output_type": "execute_result"
    }
   ],
   "source": [
    "template = 'df has {} rows and {} columns'\n",
    "df_shape= template.format(df.shape[0], df.shape[1])\n",
    "df_shape"
   ]
  },
  {
   "cell_type": "code",
   "execution_count": 251,
   "id": "fd88db9c",
   "metadata": {},
   "outputs": [
    {
     "data": {
      "text/plain": [
       "'df has 4 rows and 3 columns'"
      ]
     },
     "execution_count": 251,
     "metadata": {},
     "output_type": "execute_result"
    }
   ],
   "source": [
    "#or\n",
    "df_shape = f'df has {df.shape[0]} rows and { df.shape[1]} columns'\n",
    "df_shape"
   ]
  },
  {
   "cell_type": "code",
   "execution_count": 111,
   "id": "d306b8b1",
   "metadata": {},
   "outputs": [
    {
     "ename": "SyntaxError",
     "evalue": "invalid syntax (Temp/ipykernel_8060/4019827824.py, line 2)",
     "output_type": "error",
     "traceback": [
      "\u001b[1;36m  File \u001b[1;32m\"C:\\Users\\yana2\\AppData\\Local\\Temp/ipykernel_8060/4019827824.py\"\u001b[1;36m, line \u001b[1;32m2\u001b[0m\n\u001b[1;33m    Положите в переменную na_number серию, в которой для каждой колонки указано сколько ячеек\u001b[0m\n\u001b[1;37m             ^\u001b[0m\n\u001b[1;31mSyntaxError\u001b[0m\u001b[1;31m:\u001b[0m invalid syntax\n"
     ]
    }
   ],
   "source": [
    "#2\n",
    "Положите в переменную na_number серию, в которой для каждой колонки указано сколько ячеек \n",
    "содержат пропущенные значения. Например, для такого датафрэйма: task2_1.png (в папке)\n",
    "Ответ будет: task2_2.png (в папке)\n"
   ]
  },
  {
   "cell_type": "code",
   "execution_count": 252,
   "id": "7e13f18d",
   "metadata": {},
   "outputs": [
    {
     "data": {
      "text/plain": [
       "bla     1\n",
       "che     1\n",
       "name    1\n",
       "dtype: int64"
      ]
     },
     "execution_count": 252,
     "metadata": {},
     "output_type": "execute_result"
    }
   ],
   "source": [
    "na_number = df.isna().sum()\n",
    "na_number"
   ]
  },
  {
   "cell_type": "code",
   "execution_count": 113,
   "id": "34ae9254",
   "metadata": {},
   "outputs": [
    {
     "ename": "SyntaxError",
     "evalue": "invalid syntax (Temp/ipykernel_8060/4216436773.py, line 2)",
     "output_type": "error",
     "traceback": [
      "\u001b[1;36m  File \u001b[1;32m\"C:\\Users\\yana2\\AppData\\Local\\Temp/ipykernel_8060/4216436773.py\"\u001b[1;36m, line \u001b[1;32m2\u001b[0m\n\u001b[1;33m    Сохраните в переменную df_types типы данных каждой колонки датафрэйма df.\u001b[0m\n\u001b[1;37m              ^\u001b[0m\n\u001b[1;31mSyntaxError\u001b[0m\u001b[1;31m:\u001b[0m invalid syntax\n"
     ]
    }
   ],
   "source": [
    "#3\n",
    "Сохраните в переменную df_types типы данных каждой колонки датафрэйма df."
   ]
  },
  {
   "cell_type": "code",
   "execution_count": 254,
   "id": "8af49296",
   "metadata": {},
   "outputs": [
    {
     "data": {
      "text/plain": [
       "bla     float64\n",
       "che     float64\n",
       "name     object\n",
       "dtype: object"
      ]
     },
     "execution_count": 254,
     "metadata": {},
     "output_type": "execute_result"
    }
   ],
   "source": [
    "df_types = df.dtypes\n",
    "df_types"
   ]
  },
  {
   "cell_type": "code",
   "execution_count": 115,
   "id": "4e398e41",
   "metadata": {},
   "outputs": [
    {
     "ename": "SyntaxError",
     "evalue": "invalid syntax (Temp/ipykernel_8060/2372039802.py, line 2)",
     "output_type": "error",
     "traceback": [
      "\u001b[1;36m  File \u001b[1;32m\"C:\\Users\\yana2\\AppData\\Local\\Temp/ipykernel_8060/2372039802.py\"\u001b[1;36m, line \u001b[1;32m2\u001b[0m\n\u001b[1;33m    Внезапно оказалось, что в переменной age значения хранятся в виде строк!\u001b[0m\n\u001b[1;37m             ^\u001b[0m\n\u001b[1;31mSyntaxError\u001b[0m\u001b[1;31m:\u001b[0m invalid syntax\n"
     ]
    }
   ],
   "source": [
    "#4\n",
    "Внезапно оказалось, что в переменной age значения хранятся в виде строк! \n",
    "Поменяйте тип значений на целочисленный в этой колонке датафрэйма df.\n",
    "\n",
    "ps/я буду меня тру и фолс на боул значения"
   ]
  },
  {
   "cell_type": "code",
   "execution_count": 613,
   "id": "e1ef31b5",
   "metadata": {},
   "outputs": [
    {
     "data": {
      "text/plain": [
       "che     float64\n",
       "name       bool\n",
       "dtype: object"
      ]
     },
     "execution_count": 613,
     "metadata": {},
     "output_type": "execute_result"
    }
   ],
   "source": [
    "df = df.astype ({'name':'bool'})\n",
    "df.dtypes\n"
   ]
  },
  {
   "cell_type": "code",
   "execution_count": null,
   "id": "b3383c4c",
   "metadata": {},
   "outputs": [],
   "source": [
    "df.astype ({'name':'bool'})"
   ]
  },
  {
   "cell_type": "code",
   "execution_count": 256,
   "id": "a02b24fd",
   "metadata": {},
   "outputs": [
    {
     "data": {
      "text/plain": [
       "0     True\n",
       "1    False\n",
       "2     True\n",
       "3     True\n",
       "Name: name, dtype: bool"
      ]
     },
     "execution_count": 256,
     "metadata": {},
     "output_type": "execute_result"
    }
   ],
   "source": [
    "df['name']"
   ]
  },
  {
   "cell_type": "code",
   "execution_count": 117,
   "id": "b2a45e2f",
   "metadata": {},
   "outputs": [
    {
     "ename": "SyntaxError",
     "evalue": "invalid syntax (Temp/ipykernel_8060/3579438867.py, line 2)",
     "output_type": "error",
     "traceback": [
      "\u001b[1;36m  File \u001b[1;32m\"C:\\Users\\yana2\\AppData\\Local\\Temp/ipykernel_8060/3579438867.py\"\u001b[1;36m, line \u001b[1;32m2\u001b[0m\n\u001b[1;33m    Как выяснилось, для дальнейшего анализа нам не понадобятся колонки sex и age – удалите их из датафрэйма.\u001b[0m\n\u001b[1;37m        ^\u001b[0m\n\u001b[1;31mSyntaxError\u001b[0m\u001b[1;31m:\u001b[0m invalid syntax\n"
     ]
    }
   ],
   "source": [
    "#5\n",
    "Как выяснилось, для дальнейшего анализа нам не понадобятся колонки sex и age – удалите их из датафрэйма.\n"
   ]
  },
  {
   "cell_type": "code",
   "execution_count": 257,
   "id": "d4b61a37",
   "metadata": {},
   "outputs": [],
   "source": [
    "#df.drop('bla',axis=1, inplace=True)\n",
    "df.drop(columns=['bla'], inplace=True)\n"
   ]
  },
  {
   "cell_type": "code",
   "execution_count": 258,
   "id": "53fad139",
   "metadata": {},
   "outputs": [
    {
     "data": {
      "text/html": [
       "<div>\n",
       "<style scoped>\n",
       "    .dataframe tbody tr th:only-of-type {\n",
       "        vertical-align: middle;\n",
       "    }\n",
       "\n",
       "    .dataframe tbody tr th {\n",
       "        vertical-align: top;\n",
       "    }\n",
       "\n",
       "    .dataframe thead th {\n",
       "        text-align: right;\n",
       "    }\n",
       "</style>\n",
       "<table border=\"1\" class=\"dataframe\">\n",
       "  <thead>\n",
       "    <tr style=\"text-align: right;\">\n",
       "      <th></th>\n",
       "      <th>che</th>\n",
       "      <th>name</th>\n",
       "    </tr>\n",
       "  </thead>\n",
       "  <tbody>\n",
       "    <tr>\n",
       "      <th>0</th>\n",
       "      <td>40.24</td>\n",
       "      <td>True</td>\n",
       "    </tr>\n",
       "    <tr>\n",
       "      <th>1</th>\n",
       "      <td>20.58</td>\n",
       "      <td>False</td>\n",
       "    </tr>\n",
       "    <tr>\n",
       "      <th>2</th>\n",
       "      <td>NaN</td>\n",
       "      <td>True</td>\n",
       "    </tr>\n",
       "    <tr>\n",
       "      <th>3</th>\n",
       "      <td>20.58</td>\n",
       "      <td>True</td>\n",
       "    </tr>\n",
       "  </tbody>\n",
       "</table>\n",
       "</div>"
      ],
      "text/plain": [
       "     che   name\n",
       "0  40.24   True\n",
       "1  20.58  False\n",
       "2    NaN   True\n",
       "3  20.58   True"
      ]
     },
     "execution_count": 258,
     "metadata": {},
     "output_type": "execute_result"
    }
   ],
   "source": [
    "df"
   ]
  },
  {
   "cell_type": "code",
   "execution_count": null,
   "id": "18690343",
   "metadata": {},
   "outputs": [],
   "source": [
    "#6\n",
    "А теперь проверим, есть ли в нашей таблице df дубликаты по полю\n",
    "client_id – дропните все строки, в которых значения в колонке client_id повторяются."
   ]
  },
  {
   "cell_type": "code",
   "execution_count": 153,
   "id": "30755abe",
   "metadata": {},
   "outputs": [
    {
     "data": {
      "text/plain": [
       "che     2\n",
       "name    2\n",
       "dtype: int64"
      ]
     },
     "execution_count": 153,
     "metadata": {},
     "output_type": "execute_result"
    }
   ],
   "source": [
    "df.nunique()"
   ]
  },
  {
   "cell_type": "code",
   "execution_count": 152,
   "id": "6c896e7a",
   "metadata": {},
   "outputs": [
    {
     "data": {
      "text/html": [
       "<div>\n",
       "<style scoped>\n",
       "    .dataframe tbody tr th:only-of-type {\n",
       "        vertical-align: middle;\n",
       "    }\n",
       "\n",
       "    .dataframe tbody tr th {\n",
       "        vertical-align: top;\n",
       "    }\n",
       "\n",
       "    .dataframe thead th {\n",
       "        text-align: right;\n",
       "    }\n",
       "</style>\n",
       "<table border=\"1\" class=\"dataframe\">\n",
       "  <thead>\n",
       "    <tr style=\"text-align: right;\">\n",
       "      <th></th>\n",
       "      <th>che</th>\n",
       "      <th>name</th>\n",
       "    </tr>\n",
       "  </thead>\n",
       "  <tbody>\n",
       "    <tr>\n",
       "      <th>0</th>\n",
       "      <td>40.24</td>\n",
       "      <td>True</td>\n",
       "    </tr>\n",
       "    <tr>\n",
       "      <th>1</th>\n",
       "      <td>20.58</td>\n",
       "      <td>False</td>\n",
       "    </tr>\n",
       "    <tr>\n",
       "      <th>2</th>\n",
       "      <td>NaN</td>\n",
       "      <td>True</td>\n",
       "    </tr>\n",
       "  </tbody>\n",
       "</table>\n",
       "</div>"
      ],
      "text/plain": [
       "     che   name\n",
       "0  40.24   True\n",
       "1  20.58  False\n",
       "2    NaN   True"
      ]
     },
     "execution_count": 152,
     "metadata": {},
     "output_type": "execute_result"
    }
   ],
   "source": [
    "df=df.drop_duplicates(subset=['che'])\n",
    "df"
   ]
  },
  {
   "cell_type": "code",
   "execution_count": null,
   "id": "c0ba700c",
   "metadata": {},
   "outputs": [],
   "source": [
    "#7\n",
    "Небольшой перерыв на чистый питон. В списке numbers содержатся числа. \n",
    "Добавьте через цикл в список positive_numbers положительные числа из numbers. \n",
    "При этом, если вам попался 0, то нужно прекратить этот цикл.\n",
    "Например, \n",
    "numbers = [1, -2, 3, 0, -3, 2]\n",
    "Тогда positive_numbers должен быть:\n",
    "positive_numbers = [1, 3]\n"
   ]
  },
  {
   "cell_type": "code",
   "execution_count": 154,
   "id": "b9d647fa",
   "metadata": {},
   "outputs": [],
   "source": [
    "numbers = [1, -2, 3, 0, -3, 2]"
   ]
  },
  {
   "cell_type": "code",
   "execution_count": null,
   "id": "53a251bc",
   "metadata": {},
   "outputs": [],
   "source": [
    "# x = ['1','2','start', '3','4', 'end', '5', '6']\n",
    "# scanning = False\n",
    "# for i in x:\n",
    "    \n",
    "#     if i=='end':\n",
    "#         scanning = False\n",
    "#         continue\n",
    "#     if i=='start':\n",
    "#         scanning = True\n",
    "#         continue \n",
    "#     if scanning:\n",
    "#         print(i)\n",
    "        \n"
   ]
  },
  {
   "cell_type": "code",
   "execution_count": 246,
   "id": "aaa756ac",
   "metadata": {},
   "outputs": [],
   "source": [
    "numbers = [1, -2, 3, 0, -3, 2]\n",
    "pos_n=[]\n",
    "\n"
   ]
  },
  {
   "cell_type": "code",
   "execution_count": 238,
   "id": "a7e0737c",
   "metadata": {},
   "outputs": [],
   "source": [
    "# for i in numbers:\n",
    "#     if i>0:\n",
    "#         pos_n.append(i)\n",
    "#     elif i<0:\n",
    "#         continue\n",
    "#     else:\n",
    "#         break\n",
    "            "
   ]
  },
  {
   "cell_type": "code",
   "execution_count": 247,
   "id": "babcc7f1",
   "metadata": {},
   "outputs": [],
   "source": [
    "for i in numbers:\n",
    "    if i>0:\n",
    "        pos_n.append(i)\n",
    "    elif i==0:\n",
    "        break"
   ]
  },
  {
   "cell_type": "code",
   "execution_count": 248,
   "id": "cecd7a16",
   "metadata": {},
   "outputs": [
    {
     "data": {
      "text/plain": [
       "[1, 3]"
      ]
     },
     "execution_count": 248,
     "metadata": {},
     "output_type": "execute_result"
    }
   ],
   "source": [
    "pos_n\n",
    "\n",
    "    "
   ]
  },
  {
   "cell_type": "code",
   "execution_count": null,
   "id": "a0899ac3",
   "metadata": {},
   "outputs": [],
   "source": [
    "#8\n",
    "Продолжим анализ данных по поездкам. В предыдущем уроке вы изучили распределения оценок водителей \n",
    "и клиентов. Теперь посмотрим на колонки со временем!\n",
    "Сохраните данные, находящиеся в папке (taxi_peru.csv), в переменную taxi, разделитель – ;. \n",
    "Затем приведите столбцы start_at, end_at, arrived_at к формату даты, используя pd.to_datetime().\n",
    "Отфильтруйте данные и оставьте наблюдения со статусом заказа \"asap\" и \"reserved\" (start_type) .\n"
   ]
  },
  {
   "cell_type": "code",
   "execution_count": 486,
   "id": "a2febd75",
   "metadata": {},
   "outputs": [],
   "source": [
    "taxi = pd.read_csv(r\"D:\\COURSES\\taxi_peru.csv\", \n",
    "                   sep=';',\n",
    "                   parse_dates=[ 'start_at', 'end_at', 'arrived_at'\n",
    "])"
   ]
  },
  {
   "cell_type": "code",
   "execution_count": 268,
   "id": "7620af1b",
   "metadata": {},
   "outputs": [],
   "source": [
    "#длинный способ\n",
    "taxi['start_at'] = pd.to_datetime(taxi.start_at) #с остальными колонками тож самое"
   ]
  },
  {
   "cell_type": "code",
   "execution_count": 275,
   "id": "4dfadfb9",
   "metadata": {},
   "outputs": [
    {
     "data": {
      "text/plain": [
       "journey_id                  object\n",
       "user_id                     object\n",
       "driver_id                   object\n",
       "taxi_id                     object\n",
       "icon                        object\n",
       "start_type                  object\n",
       "start_at            datetime64[ns]\n",
       "start_lat                   object\n",
       "start_lon                   object\n",
       "end_at              datetime64[ns]\n",
       "end_lat                     object\n",
       "end_lon                     object\n",
       "end_state                   object\n",
       "driver_start_lat            object\n",
       "driver_start_lon            object\n",
       "arrived_at          datetime64[ns]\n",
       "source                      object\n",
       "driver_score               float64\n",
       "rider_score                float64\n",
       "dtype: object"
      ]
     },
     "execution_count": 275,
     "metadata": {},
     "output_type": "execute_result"
    }
   ],
   "source": [
    "taxi.dtypes"
   ]
  },
  {
   "cell_type": "code",
   "execution_count": 301,
   "id": "025595f8",
   "metadata": {},
   "outputs": [
    {
     "data": {
      "text/plain": [
       "(23111, 19)"
      ]
     },
     "execution_count": 301,
     "metadata": {},
     "output_type": "execute_result"
    }
   ],
   "source": [
    "taxi.shape"
   ]
  },
  {
   "cell_type": "code",
   "execution_count": 304,
   "id": "d43de89c",
   "metadata": {},
   "outputs": [
    {
     "data": {
      "text/plain": [
       "(23091, 19)"
      ]
     },
     "execution_count": 304,
     "metadata": {},
     "output_type": "execute_result"
    }
   ],
   "source": [
    "#start_type\n",
    "taxi = taxi.query(\"start_type=='asap' or start_type=='reserved'\")\n",
    "taxi.shape"
   ]
  },
  {
   "cell_type": "code",
   "execution_count": null,
   "id": "861d2777",
   "metadata": {},
   "outputs": [],
   "source": [
    "#9 ⭐️Задание со звёздочкой!⭐️\n",
    "Создайте колонку wait_time, в которой будет храниться разница между временем подачи машины \n",
    "(arrived_at) и временем заказа (start_at) в минутах. Чтобы сконвертировать полученный результат \n",
    "в минуты, можно использовать метод  .astype('timedelta64[m]')"
   ]
  },
  {
   "cell_type": "code",
   "execution_count": 487,
   "id": "dd345049",
   "metadata": {},
   "outputs": [],
   "source": [
    "taxi ['wait_time'] = (taxi.arrived_at - taxi.start_at).astype('timedelta64[m]')  "
   ]
  },
  {
   "cell_type": "code",
   "execution_count": 488,
   "id": "352413fc",
   "metadata": {},
   "outputs": [
    {
     "data": {
      "text/plain": [
       "journey_id                  object\n",
       "user_id                     object\n",
       "driver_id                   object\n",
       "taxi_id                     object\n",
       "icon                        object\n",
       "start_type                  object\n",
       "start_at            datetime64[ns]\n",
       "start_lat                   object\n",
       "start_lon                   object\n",
       "end_at              datetime64[ns]\n",
       "end_lat                     object\n",
       "end_lon                     object\n",
       "end_state                   object\n",
       "driver_start_lat            object\n",
       "driver_start_lon            object\n",
       "arrived_at          datetime64[ns]\n",
       "source                      object\n",
       "driver_score               float64\n",
       "rider_score                float64\n",
       "wait_time                  float64\n",
       "dtype: object"
      ]
     },
     "execution_count": 488,
     "metadata": {},
     "output_type": "execute_result"
    }
   ],
   "source": [
    "taxi.dtypes\n"
   ]
  },
  {
   "cell_type": "code",
   "execution_count": null,
   "id": "19ce332e",
   "metadata": {},
   "outputs": [],
   "source": [
    "#9.1) ⭐️Задание со звёздочкой!⭐️\n",
    "Посмотрим, какие водители опаздывали на заказы к определенному времени (start_type == 'reserved'). \n",
    "Опозданием считается время ожидания wait_time > 0.0.\n",
    "Сгруппируйте отфильтрованные данные по driver_id и в качестве ответа укажите id водителя, \n",
    "который опоздал на заказ интересующего нас типа наибольшее число раз\n",
    "\n"
   ]
  },
  {
   "cell_type": "code",
   "execution_count": 489,
   "id": "12c70844",
   "metadata": {},
   "outputs": [],
   "source": [
    "# taxi.query(\"start_type=='reserved'and wait_time > 0.0\") \\\n",
    "# .groupby ('driver_id') \\\n",
    "# .agg ({'start_type':'count'}) \\\n",
    "# .sort_values ('start_type', ascending=False) \\\n",
    "# .idxmax ()\n",
    "\n",
    "driver_later = taxi.query(\"start_type=='reserved'and wait_time > 0.0\") \\\n",
    ".groupby ('driver_id') \\\n",
    ".agg ({'start_type':'count'}) \\\n",
    ".idxmax ()\n",
    "\n"
   ]
  },
  {
   "cell_type": "code",
   "execution_count": 512,
   "id": "14f5f2b6",
   "metadata": {},
   "outputs": [
    {
     "data": {
      "text/html": [
       "<div>\n",
       "<style scoped>\n",
       "    .dataframe tbody tr th:only-of-type {\n",
       "        vertical-align: middle;\n",
       "    }\n",
       "\n",
       "    .dataframe tbody tr th {\n",
       "        vertical-align: top;\n",
       "    }\n",
       "\n",
       "    .dataframe thead th {\n",
       "        text-align: right;\n",
       "    }\n",
       "</style>\n",
       "<table border=\"1\" class=\"dataframe\">\n",
       "  <thead>\n",
       "    <tr style=\"text-align: right;\">\n",
       "      <th></th>\n",
       "      <th>start_type</th>\n",
       "    </tr>\n",
       "    <tr>\n",
       "      <th>driver_id</th>\n",
       "      <th></th>\n",
       "    </tr>\n",
       "  </thead>\n",
       "  <tbody>\n",
       "    <tr>\n",
       "      <th>406921adcca37705ef527b4246c0cfea</th>\n",
       "      <td>67</td>\n",
       "    </tr>\n",
       "    <tr>\n",
       "      <th>d665fb9f75ef5d9cd0fd89479380ba78</th>\n",
       "      <td>59</td>\n",
       "    </tr>\n",
       "    <tr>\n",
       "      <th>ec84a73745199ff840ecafcb924383ad</th>\n",
       "      <td>57</td>\n",
       "    </tr>\n",
       "    <tr>\n",
       "      <th>56f59b58bcbbd1cdabc3652e713134c2</th>\n",
       "      <td>51</td>\n",
       "    </tr>\n",
       "    <tr>\n",
       "      <th>c814db2127582cf95dea1f74f43127c2</th>\n",
       "      <td>45</td>\n",
       "    </tr>\n",
       "    <tr>\n",
       "      <th>...</th>\n",
       "      <td>...</td>\n",
       "    </tr>\n",
       "    <tr>\n",
       "      <th>d7bf644eb441cda6127f91addebb85c4</th>\n",
       "      <td>1</td>\n",
       "    </tr>\n",
       "    <tr>\n",
       "      <th>b68895736389f2949faa8c73555b81ac</th>\n",
       "      <td>1</td>\n",
       "    </tr>\n",
       "    <tr>\n",
       "      <th>8cb98e46b27af1e6fca8768a2a6329f3</th>\n",
       "      <td>1</td>\n",
       "    </tr>\n",
       "    <tr>\n",
       "      <th>389bfa333ba8fa7281dd5f0e1b57c0c1</th>\n",
       "      <td>1</td>\n",
       "    </tr>\n",
       "    <tr>\n",
       "      <th>358741ec2409c505c4545c38669b000b</th>\n",
       "      <td>1</td>\n",
       "    </tr>\n",
       "  </tbody>\n",
       "</table>\n",
       "<p>105 rows × 1 columns</p>\n",
       "</div>"
      ],
      "text/plain": [
       "                                  start_type\n",
       "driver_id                                   \n",
       "406921adcca37705ef527b4246c0cfea          67\n",
       "d665fb9f75ef5d9cd0fd89479380ba78          59\n",
       "ec84a73745199ff840ecafcb924383ad          57\n",
       "56f59b58bcbbd1cdabc3652e713134c2          51\n",
       "c814db2127582cf95dea1f74f43127c2          45\n",
       "...                                      ...\n",
       "d7bf644eb441cda6127f91addebb85c4           1\n",
       "b68895736389f2949faa8c73555b81ac           1\n",
       "8cb98e46b27af1e6fca8768a2a6329f3           1\n",
       "389bfa333ba8fa7281dd5f0e1b57c0c1           1\n",
       "358741ec2409c505c4545c38669b000b           1\n",
       "\n",
       "[105 rows x 1 columns]"
      ]
     },
     "execution_count": 512,
     "metadata": {},
     "output_type": "execute_result"
    }
   ],
   "source": [
    "taxi.query(\"start_type=='reserved'and wait_time > 0.0\") \\\n",
    ".groupby ('driver_id') \\\n",
    ".agg ({'start_type':'count'}) \\\n",
    ".sort_values ('start_type', ascending=False) "
   ]
  },
  {
   "cell_type": "code",
   "execution_count": null,
   "id": "aae5f627",
   "metadata": {},
   "outputs": [],
   "source": [
    "#10\n",
    "Подумайте, что может влиять на число опозданий из прошлого задания"
   ]
  },
  {
   "cell_type": "code",
   "execution_count": 429,
   "id": "67ce636e",
   "metadata": {},
   "outputs": [
    {
     "data": {
      "text/plain": [
       "3"
      ]
     },
     "execution_count": 429,
     "metadata": {},
     "output_type": "execute_result"
    }
   ],
   "source": [
    "taxi.icon.nunique()"
   ]
  },
  {
   "cell_type": "code",
   "execution_count": 427,
   "id": "15546f5d",
   "metadata": {},
   "outputs": [
    {
     "data": {
      "text/html": [
       "<div>\n",
       "<style scoped>\n",
       "    .dataframe tbody tr th:only-of-type {\n",
       "        vertical-align: middle;\n",
       "    }\n",
       "\n",
       "    .dataframe tbody tr th {\n",
       "        vertical-align: top;\n",
       "    }\n",
       "\n",
       "    .dataframe thead th {\n",
       "        text-align: right;\n",
       "    }\n",
       "</style>\n",
       "<table border=\"1\" class=\"dataframe\">\n",
       "  <thead>\n",
       "    <tr style=\"text-align: right;\">\n",
       "      <th></th>\n",
       "      <th>journey_id</th>\n",
       "      <th>user_id</th>\n",
       "      <th>driver_id</th>\n",
       "      <th>taxi_id</th>\n",
       "      <th>icon</th>\n",
       "      <th>start_type</th>\n",
       "      <th>start_at</th>\n",
       "      <th>start_lat</th>\n",
       "      <th>start_lon</th>\n",
       "      <th>end_at</th>\n",
       "      <th>end_lat</th>\n",
       "      <th>end_lon</th>\n",
       "      <th>end_state</th>\n",
       "      <th>driver_start_lat</th>\n",
       "      <th>driver_start_lon</th>\n",
       "      <th>arrived_at</th>\n",
       "      <th>source</th>\n",
       "      <th>driver_score</th>\n",
       "      <th>rider_score</th>\n",
       "      <th>wait_time</th>\n",
       "    </tr>\n",
       "  </thead>\n",
       "  <tbody>\n",
       "    <tr>\n",
       "      <th>261</th>\n",
       "      <td>695899e6f5a31d5b7bad4b2e4097a828</td>\n",
       "      <td>0d4631fecf07eba8673f87fe036511ee</td>\n",
       "      <td>6a289f0b5c2f0cb1bc2f7388df9944c8</td>\n",
       "      <td>6a289f0b5c2f0cb1bc2f7388dfdc2a40</td>\n",
       "      <td>easy</td>\n",
       "      <td>reserved</td>\n",
       "      <td>2010-08-13 13:40:00</td>\n",
       "      <td>-12,118026</td>\n",
       "      <td>-76,9752185</td>\n",
       "      <td>2010-08-13 13:53:00</td>\n",
       "      <td>-12,1079978</td>\n",
       "      <td>-76,9769345</td>\n",
       "      <td>drop off</td>\n",
       "      <td>-12,10815866</td>\n",
       "      <td>-77,01105112</td>\n",
       "      <td>2010-08-13 13:31:00</td>\n",
       "      <td>web</td>\n",
       "      <td>NaN</td>\n",
       "      <td>5.0</td>\n",
       "      <td>-9.0</td>\n",
       "    </tr>\n",
       "    <tr>\n",
       "      <th>501</th>\n",
       "      <td>3e37306827388c6d5f7bc90d674bd7f5</td>\n",
       "      <td>1e44c0fd0a266c3719ff30410baa07cd</td>\n",
       "      <td>NaN</td>\n",
       "      <td>NaN</td>\n",
       "      <td>easy</td>\n",
       "      <td>asap</td>\n",
       "      <td>2010-09-22 05:23:00</td>\n",
       "      <td>-12,0509558</td>\n",
       "      <td>-77,0398833</td>\n",
       "      <td>2010-09-22 05:26:00</td>\n",
       "      <td>-12,091167</td>\n",
       "      <td>-76,9729472</td>\n",
       "      <td>not found</td>\n",
       "      <td>NaN</td>\n",
       "      <td>NaN</td>\n",
       "      <td>NaT</td>\n",
       "      <td>Wap</td>\n",
       "      <td>NaN</td>\n",
       "      <td>NaN</td>\n",
       "      <td>NaN</td>\n",
       "    </tr>\n",
       "    <tr>\n",
       "      <th>727</th>\n",
       "      <td>5c631eab42d9b2426420a89b862944f9</td>\n",
       "      <td>406921adcca37705ef527b4246c1370e</td>\n",
       "      <td>8cb98e46b27af1e6fca8768a2a6329f3</td>\n",
       "      <td>587ea1ea1ab415acb010ec83082682bf</td>\n",
       "      <td>easy</td>\n",
       "      <td>reserved</td>\n",
       "      <td>2010-11-26 15:30:00</td>\n",
       "      <td>-12,09044145</td>\n",
       "      <td>-77,03727376</td>\n",
       "      <td>2010-11-26 15:35:00</td>\n",
       "      <td>-12,10020694</td>\n",
       "      <td>-76,97861955</td>\n",
       "      <td>drop off</td>\n",
       "      <td>-12,08559438</td>\n",
       "      <td>-77,05272932</td>\n",
       "      <td>2010-11-26 15:18:00</td>\n",
       "      <td>Android</td>\n",
       "      <td>4.0</td>\n",
       "      <td>5.0</td>\n",
       "      <td>-12.0</td>\n",
       "    </tr>\n",
       "    <tr>\n",
       "      <th>728</th>\n",
       "      <td>ebd4b0ae48400c6bec1f5909d4f6ac6f</td>\n",
       "      <td>406921adcca37705ef527b4246c1370e</td>\n",
       "      <td>8cb98e46b27af1e6fca8768a2a6329f3</td>\n",
       "      <td>587ea1ea1ab415acb010ec83082682bf</td>\n",
       "      <td>easy</td>\n",
       "      <td>reserved</td>\n",
       "      <td>2010-11-13 21:20:00</td>\n",
       "      <td>-12,0920039</td>\n",
       "      <td>-77,0433775</td>\n",
       "      <td>2010-11-13 21:39:00</td>\n",
       "      <td>-12,0938573</td>\n",
       "      <td>-76,9956768</td>\n",
       "      <td>drop off</td>\n",
       "      <td>-12,08511412</td>\n",
       "      <td>-77,05340234</td>\n",
       "      <td>2010-11-13 21:19:00</td>\n",
       "      <td>web</td>\n",
       "      <td>NaN</td>\n",
       "      <td>5.0</td>\n",
       "      <td>-1.0</td>\n",
       "    </tr>\n",
       "    <tr>\n",
       "      <th>729</th>\n",
       "      <td>1773bb95685867e5213da4ddfcccafbc</td>\n",
       "      <td>406921adcca37705ef527b4246c1370e</td>\n",
       "      <td>8cb98e46b27af1e6fca8768a2a6329f3</td>\n",
       "      <td>587ea1ea1ab415acb010ec83082682bf</td>\n",
       "      <td>easy</td>\n",
       "      <td>reserved</td>\n",
       "      <td>2010-10-30 19:30:00</td>\n",
       "      <td>-12,0920039</td>\n",
       "      <td>-77,0433775</td>\n",
       "      <td>2010-10-30 19:54:00</td>\n",
       "      <td>-12,0707014</td>\n",
       "      <td>-77,0458308</td>\n",
       "      <td>drop off</td>\n",
       "      <td>-12,08598002</td>\n",
       "      <td>-77,05261543</td>\n",
       "      <td>2010-10-30 19:29:00</td>\n",
       "      <td>web</td>\n",
       "      <td>NaN</td>\n",
       "      <td>5.0</td>\n",
       "      <td>-1.0</td>\n",
       "    </tr>\n",
       "  </tbody>\n",
       "</table>\n",
       "</div>"
      ],
      "text/plain": [
       "                           journey_id                           user_id  \\\n",
       "261  695899e6f5a31d5b7bad4b2e4097a828  0d4631fecf07eba8673f87fe036511ee   \n",
       "501  3e37306827388c6d5f7bc90d674bd7f5  1e44c0fd0a266c3719ff30410baa07cd   \n",
       "727  5c631eab42d9b2426420a89b862944f9  406921adcca37705ef527b4246c1370e   \n",
       "728  ebd4b0ae48400c6bec1f5909d4f6ac6f  406921adcca37705ef527b4246c1370e   \n",
       "729  1773bb95685867e5213da4ddfcccafbc  406921adcca37705ef527b4246c1370e   \n",
       "\n",
       "                            driver_id                           taxi_id  icon  \\\n",
       "261  6a289f0b5c2f0cb1bc2f7388df9944c8  6a289f0b5c2f0cb1bc2f7388dfdc2a40  easy   \n",
       "501                               NaN                               NaN  easy   \n",
       "727  8cb98e46b27af1e6fca8768a2a6329f3  587ea1ea1ab415acb010ec83082682bf  easy   \n",
       "728  8cb98e46b27af1e6fca8768a2a6329f3  587ea1ea1ab415acb010ec83082682bf  easy   \n",
       "729  8cb98e46b27af1e6fca8768a2a6329f3  587ea1ea1ab415acb010ec83082682bf  easy   \n",
       "\n",
       "    start_type            start_at     start_lat     start_lon  \\\n",
       "261   reserved 2010-08-13 13:40:00    -12,118026   -76,9752185   \n",
       "501       asap 2010-09-22 05:23:00   -12,0509558   -77,0398833   \n",
       "727   reserved 2010-11-26 15:30:00  -12,09044145  -77,03727376   \n",
       "728   reserved 2010-11-13 21:20:00   -12,0920039   -77,0433775   \n",
       "729   reserved 2010-10-30 19:30:00   -12,0920039   -77,0433775   \n",
       "\n",
       "                 end_at       end_lat       end_lon  end_state  \\\n",
       "261 2010-08-13 13:53:00   -12,1079978   -76,9769345   drop off   \n",
       "501 2010-09-22 05:26:00    -12,091167   -76,9729472  not found   \n",
       "727 2010-11-26 15:35:00  -12,10020694  -76,97861955   drop off   \n",
       "728 2010-11-13 21:39:00   -12,0938573   -76,9956768   drop off   \n",
       "729 2010-10-30 19:54:00   -12,0707014   -77,0458308   drop off   \n",
       "\n",
       "    driver_start_lat driver_start_lon          arrived_at   source  \\\n",
       "261     -12,10815866     -77,01105112 2010-08-13 13:31:00      web   \n",
       "501              NaN              NaN                 NaT      Wap   \n",
       "727     -12,08559438     -77,05272932 2010-11-26 15:18:00  Android   \n",
       "728     -12,08511412     -77,05340234 2010-11-13 21:19:00      web   \n",
       "729     -12,08598002     -77,05261543 2010-10-30 19:29:00      web   \n",
       "\n",
       "     driver_score  rider_score  wait_time  \n",
       "261           NaN          5.0       -9.0  \n",
       "501           NaN          NaN        NaN  \n",
       "727           4.0          5.0      -12.0  \n",
       "728           NaN          5.0       -1.0  \n",
       "729           NaN          5.0       -1.0  "
      ]
     },
     "execution_count": 427,
     "metadata": {},
     "output_type": "execute_result"
    }
   ],
   "source": [
    "#узнала, что есть 3 типа поездки - executive  group easy\n",
    "taxi.query('icon != \"executive\" and icon !=\"group\"').head()"
   ]
  },
  {
   "cell_type": "code",
   "execution_count": null,
   "id": "f77a84e2",
   "metadata": {},
   "outputs": [],
   "source": [
    "start_lat – исходное местоположение пользователя, широта\n",
    "start_lon – исходное местоположение пользователя, долгота\n",
    "end_at – время окончания поездки\n",
    "end_lat – итоговое местоположение, широта\n",
    "end_lon – итоговое местоположение, долгота\n",
    "end_state – состояние заказа\n",
    "driver_start_lat – исходное местоположение водителя, широта\n",
    "driver_start_lon – исходное местоположение водителя, долгота\n",
    "arrived_at – время прибытия водителя\n",
    "source – платформа, с которой сделан заказ"
   ]
  },
  {
   "cell_type": "code",
   "execution_count": 542,
   "id": "67e9eeeb",
   "metadata": {},
   "outputs": [],
   "source": [
    "taxi_why = taxi[['start_lat','driver_start_lat','start_lon','driver_start_lon','wait_time','start_type','driver_id']]"
   ]
  },
  {
   "cell_type": "code",
   "execution_count": 543,
   "id": "a55e3e93",
   "metadata": {},
   "outputs": [
    {
     "data": {
      "text/html": [
       "<div>\n",
       "<style scoped>\n",
       "    .dataframe tbody tr th:only-of-type {\n",
       "        vertical-align: middle;\n",
       "    }\n",
       "\n",
       "    .dataframe tbody tr th {\n",
       "        vertical-align: top;\n",
       "    }\n",
       "\n",
       "    .dataframe thead th {\n",
       "        text-align: right;\n",
       "    }\n",
       "</style>\n",
       "<table border=\"1\" class=\"dataframe\">\n",
       "  <thead>\n",
       "    <tr style=\"text-align: right;\">\n",
       "      <th></th>\n",
       "      <th>start_lat</th>\n",
       "      <th>driver_start_lat</th>\n",
       "      <th>start_lon</th>\n",
       "      <th>driver_start_lon</th>\n",
       "      <th>wait_time</th>\n",
       "      <th>start_type</th>\n",
       "      <th>driver_id</th>\n",
       "    </tr>\n",
       "  </thead>\n",
       "  <tbody>\n",
       "    <tr>\n",
       "      <th>11</th>\n",
       "      <td>-12,10128779</td>\n",
       "      <td>-12,1011259</td>\n",
       "      <td>-77,00463697</td>\n",
       "      <td>-77,0041831</td>\n",
       "      <td>7.0</td>\n",
       "      <td>reserved</td>\n",
       "      <td>d04f1a596fe4a582f48e6eb2f9e8f617</td>\n",
       "    </tr>\n",
       "    <tr>\n",
       "      <th>51</th>\n",
       "      <td>-12,11184692</td>\n",
       "      <td>-12,02907305</td>\n",
       "      <td>-77,03222656</td>\n",
       "      <td>-77,08317745</td>\n",
       "      <td>11.0</td>\n",
       "      <td>reserved</td>\n",
       "      <td>ae06c34243f741e203e97c48ebcbd9da</td>\n",
       "    </tr>\n",
       "    <tr>\n",
       "      <th>67</th>\n",
       "      <td>-12,12078476</td>\n",
       "      <td>-12,11143646</td>\n",
       "      <td>-76,97079468</td>\n",
       "      <td>-76,99240794</td>\n",
       "      <td>1.0</td>\n",
       "      <td>reserved</td>\n",
       "      <td>406921adcca37705ef527b4246c0cfea</td>\n",
       "    </tr>\n",
       "    <tr>\n",
       "      <th>83</th>\n",
       "      <td>-12,10181985</td>\n",
       "      <td>-12,06300311</td>\n",
       "      <td>-76,97150599</td>\n",
       "      <td>-76,94575123</td>\n",
       "      <td>3.0</td>\n",
       "      <td>reserved</td>\n",
       "      <td>baacf396f773709519bbde35a5eab861</td>\n",
       "    </tr>\n",
       "    <tr>\n",
       "      <th>157</th>\n",
       "      <td>-12,0966369</td>\n",
       "      <td>-12,08623295</td>\n",
       "      <td>-77,0295319</td>\n",
       "      <td>-77,03547408</td>\n",
       "      <td>1.0</td>\n",
       "      <td>reserved</td>\n",
       "      <td>65b6f3b7075270499ddd0f1dc1130459</td>\n",
       "    </tr>\n",
       "    <tr>\n",
       "      <th>...</th>\n",
       "      <td>...</td>\n",
       "      <td>...</td>\n",
       "      <td>...</td>\n",
       "      <td>...</td>\n",
       "      <td>...</td>\n",
       "      <td>...</td>\n",
       "      <td>...</td>\n",
       "    </tr>\n",
       "    <tr>\n",
       "      <th>23044</th>\n",
       "      <td>-12,0918521</td>\n",
       "      <td>-12,0735807</td>\n",
       "      <td>-77,0519091</td>\n",
       "      <td>-77,04195549</td>\n",
       "      <td>4.0</td>\n",
       "      <td>reserved</td>\n",
       "      <td>27c157e605c56c7df70c605963e1d386</td>\n",
       "    </tr>\n",
       "    <tr>\n",
       "      <th>23047</th>\n",
       "      <td>-12,0918423</td>\n",
       "      <td>-12,03970949</td>\n",
       "      <td>-77,0421839</td>\n",
       "      <td>-77,05231815</td>\n",
       "      <td>1.0</td>\n",
       "      <td>reserved</td>\n",
       "      <td>406921adcca37705ef527b4246c19db3</td>\n",
       "    </tr>\n",
       "    <tr>\n",
       "      <th>23053</th>\n",
       "      <td>-12,0780836</td>\n",
       "      <td>-12,05495955</td>\n",
       "      <td>-77,0906339</td>\n",
       "      <td>-77,05101171</td>\n",
       "      <td>10.0</td>\n",
       "      <td>reserved</td>\n",
       "      <td>406921adcca37705ef527b4246c19db3</td>\n",
       "    </tr>\n",
       "    <tr>\n",
       "      <th>23063</th>\n",
       "      <td>-12,0770342</td>\n",
       "      <td>-12,04602095</td>\n",
       "      <td>-76,9885396</td>\n",
       "      <td>-77,02585903</td>\n",
       "      <td>3.0</td>\n",
       "      <td>reserved</td>\n",
       "      <td>eeb07ac5409c082354b923689341b9ec</td>\n",
       "    </tr>\n",
       "    <tr>\n",
       "      <th>23104</th>\n",
       "      <td>-12,1119515</td>\n",
       "      <td>-12,1115584</td>\n",
       "      <td>-77,0507767</td>\n",
       "      <td>-77,0123847</td>\n",
       "      <td>6.0</td>\n",
       "      <td>reserved</td>\n",
       "      <td>56f59b58bcbbd1cdabc3652e713134c2</td>\n",
       "    </tr>\n",
       "  </tbody>\n",
       "</table>\n",
       "<p>1058 rows × 7 columns</p>\n",
       "</div>"
      ],
      "text/plain": [
       "          start_lat driver_start_lat     start_lon driver_start_lon  \\\n",
       "11     -12,10128779      -12,1011259  -77,00463697      -77,0041831   \n",
       "51     -12,11184692     -12,02907305  -77,03222656     -77,08317745   \n",
       "67     -12,12078476     -12,11143646  -76,97079468     -76,99240794   \n",
       "83     -12,10181985     -12,06300311  -76,97150599     -76,94575123   \n",
       "157     -12,0966369     -12,08623295   -77,0295319     -77,03547408   \n",
       "...             ...              ...           ...              ...   \n",
       "23044   -12,0918521      -12,0735807   -77,0519091     -77,04195549   \n",
       "23047   -12,0918423     -12,03970949   -77,0421839     -77,05231815   \n",
       "23053   -12,0780836     -12,05495955   -77,0906339     -77,05101171   \n",
       "23063   -12,0770342     -12,04602095   -76,9885396     -77,02585903   \n",
       "23104   -12,1119515      -12,1115584   -77,0507767      -77,0123847   \n",
       "\n",
       "       wait_time start_type                         driver_id  \n",
       "11           7.0   reserved  d04f1a596fe4a582f48e6eb2f9e8f617  \n",
       "51          11.0   reserved  ae06c34243f741e203e97c48ebcbd9da  \n",
       "67           1.0   reserved  406921adcca37705ef527b4246c0cfea  \n",
       "83           3.0   reserved  baacf396f773709519bbde35a5eab861  \n",
       "157          1.0   reserved  65b6f3b7075270499ddd0f1dc1130459  \n",
       "...          ...        ...                               ...  \n",
       "23044        4.0   reserved  27c157e605c56c7df70c605963e1d386  \n",
       "23047        1.0   reserved  406921adcca37705ef527b4246c19db3  \n",
       "23053       10.0   reserved  406921adcca37705ef527b4246c19db3  \n",
       "23063        3.0   reserved  eeb07ac5409c082354b923689341b9ec  \n",
       "23104        6.0   reserved  56f59b58bcbbd1cdabc3652e713134c2  \n",
       "\n",
       "[1058 rows x 7 columns]"
      ]
     },
     "execution_count": 543,
     "metadata": {},
     "output_type": "execute_result"
    }
   ],
   "source": [
    "taxi_why.query(\"start_type=='reserved'and wait_time > 0.0\")"
   ]
  },
  {
   "cell_type": "code",
   "execution_count": 523,
   "id": "9f4e6e6a",
   "metadata": {},
   "outputs": [
    {
     "data": {
      "text/plain": [
       "journey_id              0\n",
       "user_id                 0\n",
       "driver_id            3385\n",
       "taxi_id              3385\n",
       "icon                    0\n",
       "start_type              0\n",
       "start_at                0\n",
       "start_lat               0\n",
       "start_lon               0\n",
       "end_at                276\n",
       "end_lat                 0\n",
       "end_lon                 0\n",
       "end_state              12\n",
       "driver_start_lat     3490\n",
       "driver_start_lon     3490\n",
       "arrived_at           5395\n",
       "source                123\n",
       "driver_score        15461\n",
       "rider_score          7721\n",
       "wait_time            5395\n",
       "dtype: int64"
      ]
     },
     "execution_count": 523,
     "metadata": {},
     "output_type": "execute_result"
    }
   ],
   "source": [
    "taxi.isna().sum()"
   ]
  },
  {
   "cell_type": "code",
   "execution_count": null,
   "id": "906fca9c",
   "metadata": {},
   "outputs": [],
   "source": [
    "#11 ⭐️Задание со звёздочкой!⭐️\n",
    "Добавьте столбец month, где будет храниться месяц, в котором был сделан заказ (start_at), \n",
    "как номер, и столбец weekday – название дня недели. \n"
   ]
  },
  {
   "cell_type": "code",
   "execution_count": 560,
   "id": "5eb77af8",
   "metadata": {},
   "outputs": [],
   "source": [
    "taxi ['weekday'] = taxi.start_at.dt.day_name()"
   ]
  },
  {
   "cell_type": "code",
   "execution_count": 552,
   "id": "c10f5c76",
   "metadata": {},
   "outputs": [],
   "source": [
    "taxi['month'] = taxi.start_at.dt.month"
   ]
  },
  {
   "cell_type": "code",
   "execution_count": null,
   "id": "0f4ebe38",
   "metadata": {},
   "outputs": [],
   "source": [
    "#12 ⭐️Задание со звёздочкой!⭐️\n",
    "Постройте график числа заказов по месяцам (month). Подумайте, с чем может быть связана полученная картина. \n",
    "Вопрос: в каком летнем месяце было сделано наименьшее число заказов? \n",
    "В качестве ответа введите номер месяца (6, 7 или 8). "
   ]
  },
  {
   "cell_type": "code",
   "execution_count": 566,
   "id": "ea47303c",
   "metadata": {},
   "outputs": [],
   "source": [
    "import seaborn as sns\n",
    "import matplotlib.pyplot as plt\n",
    "%matplotlib inline"
   ]
  },
  {
   "cell_type": "code",
   "execution_count": 600,
   "id": "5d8a7dc9",
   "metadata": {},
   "outputs": [
    {
     "name": "stderr",
     "output_type": "stream",
     "text": [
      "C:\\ProgramData\\Anaconda3\\lib\\site-packages\\seaborn\\_decorators.py:36: FutureWarning: Pass the following variable as a keyword arg: x. From version 0.12, the only valid positional argument will be `data`, and passing other arguments without an explicit keyword will result in an error or misinterpretation.\n",
      "  warnings.warn(\n"
     ]
    },
    {
     "data": {
      "image/png": "[encoded data removed]",
      "text/plain": [
       "<Figure size 720x576 with 1 Axes>"
      ]
     },
     "metadata": {
      "needs_background": "light"
     },
     "output_type": "display_data"
    }
   ],
   "source": [
    "plt.figure(figsize=(10,8))\n",
    "sns.countplot(taxi.month)\n",
    "sns.despine( ) #удаление рамки"
   ]
  },
  {
   "cell_type": "code",
   "execution_count": null,
   "id": "faec36aa",
   "metadata": {},
   "outputs": [],
   "source": [
    "#13 ⭐️Задание со звёздочкой!⭐️\n",
    "А теперь – график по дням недели (weekday). Задать порядок столбиков на графике можно с \n",
    "помощью аргумента order, которому нужно передать список названий в нужном порядке. Например: \n",
    "sns.countplot(data['column'], order=['One', 'Two', 'Three'])\n",
    "Вопрос: в какой день недели суммарно поступило меньше всего заказов?\n"
   ]
  },
  {
   "cell_type": "code",
   "execution_count": 615,
   "id": "154531fb",
   "metadata": {},
   "outputs": [
    {
     "name": "stderr",
     "output_type": "stream",
     "text": [
      "C:\\ProgramData\\Anaconda3\\lib\\site-packages\\seaborn\\_decorators.py:36: FutureWarning: Pass the following variable as a keyword arg: x. From version 0.12, the only valid positional argument will be `data`, and passing other arguments without an explicit keyword will result in an error or misinterpretation.\n",
      "  warnings.warn(\n"
     ]
    },
    {
     "data": {
      "text/plain": [
       "<AxesSubplot:xlabel='weekday', ylabel='count'>"
      ]
     },
     "execution_count": 615,
     "metadata": {},
     "output_type": "execute_result"
    },
    {
     "data": {
      "image/png": "[encoded data removed]",
      "text/plain": [
       "<Figure size 576x360 with 1 Axes>"
      ]
     },
     "metadata": {
      "needs_background": "light"
     },
     "output_type": "display_data"
    }
   ],
   "source": [
    "plt.figure(figsize=(8,5))\n",
    "sns.countplot('weekday',\n",
    "                  data = taxi,\n",
    "                  order=['Monday', 'Tuesday', 'Wednesday', 'Thursday','Friday','Saturday','Sunday'],\n",
    "                  hue ='start_type' )"
   ]
  },
  {
   "cell_type": "code",
   "execution_count": 608,
   "id": "b007d510",
   "metadata": {},
   "outputs": [
    {
     "name": "stderr",
     "output_type": "stream",
     "text": [
      "C:\\ProgramData\\Anaconda3\\lib\\site-packages\\seaborn\\_decorators.py:36: FutureWarning: Pass the following variable as a keyword arg: x. From version 0.12, the only valid positional argument will be `data`, and passing other arguments without an explicit keyword will result in an error or misinterpretation.\n",
      "  warnings.warn(\n"
     ]
    },
    {
     "data": {
      "text/plain": [
       "<AxesSubplot:xlabel='weekday', ylabel='count'>"
      ]
     },
     "execution_count": 608,
     "metadata": {},
     "output_type": "execute_result"
    },
    {
     "data": {
      "image/png": "[encoded data removed]",
      "text/plain": [
       "<Figure size 576x360 with 1 Axes>"
      ]
     },
     "metadata": {
      "needs_background": "light"
     },
     "output_type": "display_data"
    }
   ],
   "source": [
    "plt.figure(figsize=(8,5))\n",
    "sns.countplot(taxi['weekday'], order=['Monday', 'Tuesday', 'Wednesday', 'Thursday','Friday','Saturday','Sunday'])"
   ]
  },
  {
   "cell_type": "code",
   "execution_count": null,
   "id": "4f214fd5",
   "metadata": {},
   "outputs": [],
   "source": [
    "#14 ⭐️Задание со звёздочкой!⭐️\n",
    "Также мы можем посмотреть на несколько простых метрик, показывающих число уникальных пользователей\n",
    "за определённый период:\n",
    "DAU (daily active users) – число уникальных пользователей за день\n",
    "WAU (weekly active users) – число уникальных пользователей за неделю\n",
    "MAU (monthly active users) – число уникальных пользователей за месяц\n",
    "Активные пользователи – те, кто воспользовался приложением и сделал хотя бы один \n",
    "заказ за выбранный промежуток времени. Постройте график MAU и выберите верные утверждения. \n",
    "Могут пригодиться:\n",
    "groupby – группировка\n",
    "nunique – число уникальных значений\n",
    "plot.line – линейная диаграмма"
   ]
  },
  {
   "cell_type": "code",
   "execution_count": null,
   "id": "92fcb7ce",
   "metadata": {},
   "outputs": [],
   "source": [
    "agg_func_count = {'embark_town': ['count', 'nunique', 'size']}\n",
    "df.groupby(['deck']).agg(agg_func_count)"
   ]
  },
  {
   "cell_type": "code",
   "execution_count": 610,
   "id": "a6d0734c",
   "metadata": {},
   "outputs": [],
   "source": [
    "agg_func = {'user_id':'nunique'}"
   ]
  },
  {
   "cell_type": "code",
   "execution_count": 619,
   "id": "7c33ce2e",
   "metadata": {},
   "outputs": [
    {
     "data": {
      "text/html": [
       "<div>\n",
       "<style scoped>\n",
       "    .dataframe tbody tr th:only-of-type {\n",
       "        vertical-align: middle;\n",
       "    }\n",
       "\n",
       "    .dataframe tbody tr th {\n",
       "        vertical-align: top;\n",
       "    }\n",
       "\n",
       "    .dataframe thead th {\n",
       "        text-align: right;\n",
       "    }\n",
       "</style>\n",
       "<table border=\"1\" class=\"dataframe\">\n",
       "  <thead>\n",
       "    <tr style=\"text-align: right;\">\n",
       "      <th></th>\n",
       "      <th>user_id</th>\n",
       "    </tr>\n",
       "    <tr>\n",
       "      <th>weekday</th>\n",
       "      <th></th>\n",
       "    </tr>\n",
       "  </thead>\n",
       "  <tbody>\n",
       "    <tr>\n",
       "      <th>Friday</th>\n",
       "      <td>528</td>\n",
       "    </tr>\n",
       "    <tr>\n",
       "      <th>Monday</th>\n",
       "      <td>667</td>\n",
       "    </tr>\n",
       "    <tr>\n",
       "      <th>Saturday</th>\n",
       "      <td>557</td>\n",
       "    </tr>\n",
       "    <tr>\n",
       "      <th>Sunday</th>\n",
       "      <td>615</td>\n",
       "    </tr>\n",
       "    <tr>\n",
       "      <th>Thursday</th>\n",
       "      <td>538</td>\n",
       "    </tr>\n",
       "    <tr>\n",
       "      <th>Tuesday</th>\n",
       "      <td>680</td>\n",
       "    </tr>\n",
       "    <tr>\n",
       "      <th>Wednesday</th>\n",
       "      <td>579</td>\n",
       "    </tr>\n",
       "  </tbody>\n",
       "</table>\n",
       "</div>"
      ],
      "text/plain": [
       "           user_id\n",
       "weekday           \n",
       "Friday         528\n",
       "Monday         667\n",
       "Saturday       557\n",
       "Sunday         615\n",
       "Thursday       538\n",
       "Tuesday        680\n",
       "Wednesday      579"
      ]
     },
     "execution_count": 619,
     "metadata": {},
     "output_type": "execute_result"
    }
   ],
   "source": [
    "#за день\n",
    "DAU = taxi.groupby(['weekday']).agg(agg_func)\n",
    "DAU"
   ]
  },
  {
   "cell_type": "code",
   "execution_count": 624,
   "id": "7f9c23fd",
   "metadata": {},
   "outputs": [
    {
     "data": {
      "text/plain": [
       "user_id    4164\n",
       "dtype: int64"
      ]
     },
     "execution_count": 624,
     "metadata": {},
     "output_type": "execute_result"
    }
   ],
   "source": [
    "WAU = DAU.sum()\n",
    "WAU"
   ]
  },
  {
   "cell_type": "code",
   "execution_count": 627,
   "id": "d1a70220",
   "metadata": {},
   "outputs": [
    {
     "data": {
      "text/html": [
       "<div>\n",
       "<style scoped>\n",
       "    .dataframe tbody tr th:only-of-type {\n",
       "        vertical-align: middle;\n",
       "    }\n",
       "\n",
       "    .dataframe tbody tr th {\n",
       "        vertical-align: top;\n",
       "    }\n",
       "\n",
       "    .dataframe thead th {\n",
       "        text-align: right;\n",
       "    }\n",
       "</style>\n",
       "<table border=\"1\" class=\"dataframe\">\n",
       "  <thead>\n",
       "    <tr style=\"text-align: right;\">\n",
       "      <th></th>\n",
       "      <th>user_id</th>\n",
       "    </tr>\n",
       "    <tr>\n",
       "      <th>month</th>\n",
       "      <th></th>\n",
       "    </tr>\n",
       "  </thead>\n",
       "  <tbody>\n",
       "    <tr>\n",
       "      <th>1</th>\n",
       "      <td>102</td>\n",
       "    </tr>\n",
       "    <tr>\n",
       "      <th>2</th>\n",
       "      <td>111</td>\n",
       "    </tr>\n",
       "    <tr>\n",
       "      <th>3</th>\n",
       "      <td>163</td>\n",
       "    </tr>\n",
       "    <tr>\n",
       "      <th>4</th>\n",
       "      <td>254</td>\n",
       "    </tr>\n",
       "    <tr>\n",
       "      <th>5</th>\n",
       "      <td>275</td>\n",
       "    </tr>\n",
       "    <tr>\n",
       "      <th>6</th>\n",
       "      <td>309</td>\n",
       "    </tr>\n",
       "    <tr>\n",
       "      <th>7</th>\n",
       "      <td>318</td>\n",
       "    </tr>\n",
       "    <tr>\n",
       "      <th>8</th>\n",
       "      <td>377</td>\n",
       "    </tr>\n",
       "    <tr>\n",
       "      <th>9</th>\n",
       "      <td>416</td>\n",
       "    </tr>\n",
       "    <tr>\n",
       "      <th>10</th>\n",
       "      <td>437</td>\n",
       "    </tr>\n",
       "    <tr>\n",
       "      <th>11</th>\n",
       "      <td>504</td>\n",
       "    </tr>\n",
       "    <tr>\n",
       "      <th>12</th>\n",
       "      <td>569</td>\n",
       "    </tr>\n",
       "  </tbody>\n",
       "</table>\n",
       "</div>"
      ],
      "text/plain": [
       "       user_id\n",
       "month         \n",
       "1          102\n",
       "2          111\n",
       "3          163\n",
       "4          254\n",
       "5          275\n",
       "6          309\n",
       "7          318\n",
       "8          377\n",
       "9          416\n",
       "10         437\n",
       "11         504\n",
       "12         569"
      ]
     },
     "execution_count": 627,
     "metadata": {},
     "output_type": "execute_result"
    }
   ],
   "source": [
    "mau = taxi.groupby(['month']).agg(agg_func)\n",
    "mau"
   ]
  },
  {
   "cell_type": "code",
   "execution_count": 629,
   "id": "e78a3a3b",
   "metadata": {},
   "outputs": [
    {
     "data": {
      "text/plain": [
       "<AxesSubplot:xlabel='month'>"
      ]
     },
     "execution_count": 629,
     "metadata": {},
     "output_type": "execute_result"
    },
    {
     "data": {
      "image/png": "[encoded data removed]",
      "text/plain": [
       "<Figure size 720x576 with 1 Axes>"
      ]
     },
     "metadata": {
      "needs_background": "light"
     },
     "output_type": "display_data"
    }
   ],
   "source": [
    "mau.plot(figsize=(10,8))"
   ]
  },
  {
   "cell_type": "code",
   "execution_count": 652,
   "id": "6172b286",
   "metadata": {},
   "outputs": [
    {
     "data": {
      "image/png": "[encoded data removed]",
      "text/plain": [
       "<Figure size 720x576 with 1 Axes>"
      ]
     },
     "metadata": {
      "needs_background": "light"
     },
     "output_type": "display_data"
    }
   ],
   "source": [
    "plt.figure(figsize=(10,8))\n",
    "sns.lineplot(data=mau, markers = 'o')\n",
    "plt.xticks(xticks) ;"
   ]
  },
  {
   "cell_type": "code",
   "execution_count": 650,
   "id": "62916d10",
   "metadata": {},
   "outputs": [],
   "source": [
    "xticks = range (1,13)"
   ]
  },
  {
   "cell_type": "code",
   "execution_count": 649,
   "id": "e1d92d45",
   "metadata": {},
   "outputs": [
    {
     "data": {
      "text/plain": [
       "range(0, 13)"
      ]
     },
     "execution_count": 649,
     "metadata": {},
     "output_type": "execute_result"
    }
   ],
   "source": [
    "range (13)\n"
   ]
  },
  {
   "cell_type": "raw",
   "id": "1a81d6e8",
   "metadata": {},
   "source": []
  }
 ],
 "metadata": {
  "kernelspec": {
   "display_name": "Python 3 (ipykernel)",
   "language": "python",
   "name": "python3"
  },
  "language_info": {
   "codemirror_mode": {
    "name": "ipython",
    "version": 3
   },
   "file_extension": ".py",
   "mimetype": "text/x-python",
   "name": "python",
   "nbconvert_exporter": "python",
   "pygments_lexer": "ipython3",
   "version": "3.9.7"
  }
 },
 "nbformat": 4,
 "nbformat_minor": 5
}
